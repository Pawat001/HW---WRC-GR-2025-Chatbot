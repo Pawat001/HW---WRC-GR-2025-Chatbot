{
  "cells": [
    {
      "cell_type": "code",
      "execution_count": 30,
      "metadata": {
        "id": "VTJaTW5yJX_f"
      },
      "outputs": [],
      "source": [
        "#ภวัต นาคเจือทอง 6506022620109"
      ]
    },
    {
      "cell_type": "code",
      "execution_count": 31,
      "metadata": {
        "id": "tJrhLKctzSBY"
      },
      "outputs": [
        {
          "name": "stderr",
          "output_type": "stream",
          "text": [
            "WARNING: Ignoring invalid distribution -vicorn (c:\\users\\s3795\\appdata\\local\\programs\\python\\python310\\lib\\site-packages)\n",
            "WARNING: Ignoring invalid distribution -vicorn (c:\\users\\s3795\\appdata\\local\\programs\\python\\python310\\lib\\site-packages)\n",
            "WARNING: Ignoring invalid distribution -vicorn (c:\\users\\s3795\\appdata\\local\\programs\\python\\python310\\lib\\site-packages)\n",
            "\n",
            "[notice] A new release of pip is available: 25.0.1 -> 25.2\n",
            "[notice] To update, run: python.exe -m pip install --upgrade pip\n"
          ]
        }
      ],
      "source": [
        "!pip -q install pandas scikit-learn openpyxl streamlit pyngrok joblib"
      ]
    },
    {
      "cell_type": "code",
      "execution_count": 32,
      "metadata": {
        "id": "Npk8JPqkzTWs"
      },
      "outputs": [],
      "source": [
        "import os, re, json, random\n",
        "import pandas as pd, joblib\n",
        "from sklearn.model_selection import train_test_split\n",
        "from sklearn.pipeline import make_pipeline\n",
        "from sklearn.feature_extraction.text import TfidfVectorizer\n",
        "from sklearn.naive_bayes import MultinomialNB"
      ]
    },
    {
      "cell_type": "code",
      "execution_count": 33,
      "metadata": {
        "id": "w-n707dLzgSU"
      },
      "outputs": [],
      "source": [
        "# =========================================================\n",
        "# 1. Facts, Templates, Helper, Build Dataset\n",
        "# =========================================================\n",
        "\n",
        "FACTS = {\n",
        "    \"year\": \"2025\",\n",
        "    \"team_short\": \"Gazoo Racing\",\n",
        "    \"team_full\": \"WRC Toyota Gazoo Racing\",\n",
        "    \"drivers\": [\"Kalle Rovanperä\", \"Elfyn Evans\", \"Takamoto Katsuta\", \"Sébastien Ogier\"],\n",
        "    \"team_principal\": \"Jari-Matti Latvala\",\n",
        "    \"technical_director\": \"Tom Fowler\",\n",
        "    \"car_name\": \"Toyota GR Yaris Rally1 Hybrid\",\n",
        "    \"power_unit\": \"เครื่องยนต์เบนซิน 1.6 ลิตร เทอร์โบ ผสานกับระบบไฮบริด 100kW (134 แรงม้า) ซึ่งเป็นไปตามกติกา FIA Rally1\",\n",
        "    \"base_chassis\": \"Jyväskylä, Finland (ศูนย์ใหญ่ของทีม)\",\n",
        "    \"base_engine\": \"ญี่ปุ่น (ส่วนใหญ่) และยุโรป (บางส่วน)\",\n",
        "\n",
        "    # คะแนนล่าสุดผู้ผลิต\n",
        "    \"constructors_points_asof\": \"513 คะแนน — Toyota นำหน้า Hyundai และ M-Sport\",\n",
        "    \"asof_event\": \"หลังจบการแข่งขัน Rally del Paraguay (สนามที่ 10)\",\n",
        "    \"asof_date\": \"อัปเดตล่าสุด ณ วันที่ 14 กันยายน 2025\",  # ตามข้อมูลเว็บทางการ\n",
        "    \"car_focus\": \"ทีมเน้นการปรับปรุงระบบแอร์โรไดนามิก ช่วงล่าง และการจัดการพลังงานไฮบริดเพื่อเพิ่มประสิทธิภาพในทุกสภาพถนน พร้อมปรับปรุงการตอบสนองของเครื่องยนต์\",\n",
        "\n",
        "    \"standings\": {\n",
        "        \"Elfyn Evans\": {\n",
        "            \"pos\": \"อันดับ 1 คะแนนนักขับด้วย 198 คะแนน\",\n",
        "            \"pts\": \"198\",\n",
        "            \"nat\": \"GBR\"\n",
        "        },\n",
        "        \"Kalle Rovanperä\": {\n",
        "            \"pos\": \"อันดับ 2 คะแนนนักขับด้วย 191 คะแนน\",\n",
        "            \"pts\": \"191\",\n",
        "            \"nat\": \"FIN\"\n",
        "        },\n",
        "        \"Sébastien Ogier\": {\n",
        "            \"pos\": \"อันดับ 3 คะแนนนักขับด้วย 189 คะแนน\",\n",
        "            \"pts\": \"189\",\n",
        "            \"nat\": \"FRA\"\n",
        "        },\n",
        "        \"Ott Tänak\": {\n",
        "            \"pos\": \"อันดับ 4 คะแนนนักขับด้วย 180 คะแนน\",\n",
        "            \"pts\": \"180\",\n",
        "            \"nat\": \"EST\"\n",
        "        },\n",
        "        \"Thierry Neuville\": {\n",
        "            \"pos\": \"อันดับ 5 คะแนนนักขับด้วย 150 คะแนน\",\n",
        "            \"pts\": \"150\",\n",
        "            \"nat\": \"BEL\"\n",
        "        },\n",
        "        \"Takamoto Katsuta\": {\n",
        "            \"pos\": \"อันดับ 6 คะแนนนักขับด้วย 88 คะแนน\",\n",
        "            \"pts\": \"88\",\n",
        "            \"nat\": \"JPN\"\n",
        "        },\n",
        "        \"manufacturers\": {\n",
        "            \"Toyota Gazoo Racing WRT\": \"513\",\n",
        "            \"Hyundai Shell Mobis World Rally Team\": \"413\",\n",
        "            \"M-Sport Ford World Rally Team\": \"143\"\n",
        "        }\n",
        "    },\n",
        "\n",
        "    # ข้อมูลเพิ่มเติมที่เข้ากับ INTENT_TEMPLATES ใหม่\n",
        "    \"next_event\": \"Rally Chile Bio Bío (สนามที่ 11) วันที่ 11-14 กันยายน 2025\",\n",
        "    \"team_strengths\": \"ความเสถียรของ {car_name}, นักขับชั้นนำ และการปรับแต่งรถแข่งให้เหมาะสมกับพื้นผิวที่หลากหลาย — Gazoo Racing ยืนหยัดในกลุ่มผู้นำทั้งในฝุ่น ดินแดง และกรวด\",\n",
        "    \"team_rivals\": [\"Hyundai Shell Mobis World Rally Team\", \"M-Sport Ford World Rally Team\"]\n",
        "}\n"
      ]
    },
    {
      "cell_type": "code",
      "execution_count": 34,
      "metadata": {
        "id": "htzsIvR634Ik"
      },
      "outputs": [],
      "source": [
        "# ===== List → string สวย ๆ (รองรับไทย/อังกฤษ) =====\n",
        "def _stringify(val, thai=False):\n",
        "    if isinstance(val, (list, tuple)):\n",
        "        if not val: return \"\"\n",
        "        if len(val)==1: return str(val[0])\n",
        "        conj = \" และ \" if thai else \" and \"\n",
        "        return \", \".join(map(str, val[:-1])) + conj + str(val[-1])\n",
        "    return str(val)\n",
        "\n",
        "def fill_response(template: str, facts=FACTS):\n",
        "    th = bool(re.search(r'[\\u0E00-\\u0E7F]', template))\n",
        "    def repl(m):\n",
        "        key = m.group(1)\n",
        "        try:\n",
        "            v = eval(key, {}, facts)  # รองรับ {drivers[0]} / facts[\"standings\"][\"George Russell\"][\"pts\"]\n",
        "        except Exception:\n",
        "            v = facts.get(key, m.group(0))\n",
        "        return _stringify(v, th)\n",
        "    return re.sub(r\"\\{([^\\}]+)\\}\", repl, template)"
      ]
    },
    {
      "cell_type": "code",
      "execution_count": 35,
      "metadata": {
        "id": "WqOPV3TI35hc"
      },
      "outputs": [],
      "source": [
        "# ===== Intents & Templates =====\n",
        "INTENT_TEMPLATES = {\n",
        "    \"greeting\": {\n",
        "        \"questions\": [\"สวัสดี\",\"หวัดดี\",\"มีใครอยู่ไหม\",\"hi\",\"hello\",\"hey\", \"ทักทาย\", \"โย่ว\", \"ทักครับ\", \"ไง\", \"ไงเพื่อน\", \"สวัสดีครับ\", \"สวัสดีค่ะ\"],\n",
        "        \"responses\": [\n",
        "            \"สวัสดีครับ/ค่ะ ยินดีต้อนรับสู่ WRC Toyota Gazoo Racing {year} 👋\",\n",
        "            \"สวัสดีครับ ผมคือบอทผู้ช่วยด้านข้อมูล WRC Gazoo Racing พร้อมช่วยคุณเสมอ\",\n",
        "            \"สวัสดีครับ/ค่ะ ถามเรื่องทีม WRC Gazoo Racing 2025 ได้เลย\"\n",
        "        ]\n",
        "    },\n",
        "    \"goodbye\": {\n",
        "        \"questions\": [\"ลาแล้ว\",\"ไปก่อนนะ\",\"ไว้เจอกัน\",\"bye\",\"goodbye\",\"see you\",\"แล้วเจอกัน\", \"บ๊ายบาย\", \"ไปละ\", \"ขอบคุณครับ\", \"ขอบคุณค่ะ\", \"ขอบคุณมาก\", \"พอแค่นี้\", \"จบการสนทนา\"],\n",
        "        \"responses\": [\n",
        "            \"โชคดีครับ แล้วเจอกันใหม่! 🏁\",\n",
        "            \"ขอบคุณครับ/ค่ะ ไว้คุยกันใหม่นะ\",\n",
        "            \"ขอให้สนุกกับการติดตาม WRC ครับ\"\n",
        "        ]\n",
        "    },\n",
        "    \"capabilities\": {\n",
        "        \"questions\": [\"บอทนี้ทำอะไรได้บ้าง\",\"ขอบเขตบอทนี้\",\"ช่วยเรื่อง {team_short} {year} ได้ไหม\",\"what can you do\", \"บอทนี้ตอบคำถามอะไรได้บ้าง\", \"คุณตอบคำถามเกี่ยวกับอะไรได้บ้าง\", \"ความสามารถของคุณ\", \"ถามอะไรได้บ้าง\", \"ช่วยอะไรฉันได้บ้าง\"],\n",
        "        \"responses\": [\n",
        "            \"ผมสามารถให้ข้อมูลเกี่ยวกับทีม {team_full} ฤดูกาล {year} รวมถึงนักขับ, รถ, คะแนน, ทีมงาน และประวัติที่สำคัญของทีมได้ครับ\"\n",
        "        ]\n",
        "    },\n",
        "    \"team_overview\": {\n",
        "        \"questions\": [\"สรุปทีม {team_short} {year} ให้หน่อย\",\"ภาพรวม {team_short} {year}\",\"overview {team_short} {year}\", \"ข้อมูลเบื้องต้นเกี่ยวกับทีม\", \"แนะนำทีม {team_full} หน่อย\", \"ทีม Gazoo Racing คืออะไร\", \"ทีมนี้แข่งอะไร\"],\n",
        "        \"responses\": [\n",
        "            \"ทีม {team_full} เป็นทีมแข่งทางฝุ่นจาก Toyota ที่ลงแข่งรายการ WRC ใช้รถ {car_name} นักขับหลักปี {year} ได้แก่ {drivers[0]}, {drivers[1]} และ {drivers[2]}.\"\n",
        "        ]\n",
        "    },\n",
        "    \"team_goal\": {\n",
        "        \"questions\": [\"ฤดูกาลนี้ทีมมีเป้าหมายอะไร\",\"เป้าหมายของทีม\", \"เป้าหมายหลักของทีมคืออะไร\", \"ปีนี้ทีมตั้งเป้าไว้ยังไง\", \"ทีมอยากได้แชมป์อะไร\", \"ทีมมีเป้าหมายในฤดูกาลนี้ยังไงบ้าง\"],\n",
        "        \"responses\": [\n",
        "            \"เป้าหมายหลักของทีมคือการป้องกันแชมป์ Manufacturers และช่วยให้นักขับตัวเต็งอย่าง {drivers[0]} หรือ {drivers[1]} คว้าแชมป์โลก Drivers’ Championship ให้ได้\"\n",
        "        ]\n",
        "    },\n",
        "    \"drivers_2025\": {\n",
        "        \"questions\": [\"นักแข่ง\", \"คนขับ\", \"ใครขับ\", \"นักขับของ {team_short} {year} มีใครบ้าง\",\"{team_short} {year} drivers\",\"ไลน์อัพ {team_short} {year}\", \"รายชื่อนักขับปีนี้\", \"คนขับรถของทีมมีใครบ้าง\", \"มีนักแข่งกี่คน\", \"ใครขับรถ Toyota ปีนี้\"],\n",
        "        \"responses\": [\n",
        "            \"สำหรับฤดูกาล {year} นักขับหลักของทีมคือ {drivers[0]}, {drivers[1]} และ {drivers[2]} รวมถึง {drivers[3]} ที่ลงแข่งบางสนาม\",\n",
        "            \"รายชื่อนักขับของ Gazoo Racing ในปีนี้ได้แก่ {drivers[0]}, {drivers[1]}, {drivers[2]} และ {drivers[3]}\",\n",
        "            \"ทีมมีนักขับหลัก 3 คนคือ {drivers[0]}, {drivers[1]} และ {drivers[2]} พร้อมด้วยนักขับพาร์ทไทม์อย่าง {drivers[3]}\"\n",
        "        ]\n",
        "    },\n",
        "    \"drivers_history_kalle\": {\n",
        "        \"questions\": [\"ประวัติ Kalle Rovanperä\", \"Rovanperä มีผลงานยังไงบ้าง\", \"ประวัติของ Kalle\", \"Kalle Rovanperä เคยได้แชมป์ไหม\", \"ข้อมูลของ Kalle\", \"Rovanperä\", \"ผลงานของ Rovanperä\", \"Kalle\"],\n",
        "        \"responses\": [\n",
        "            \"{drivers[0]} เป็นแชมป์โลก WRC 2 สมัยติดต่อกัน (2022, 2023) และเป็นนักขับอายุน้อยที่สุดที่คว้าแชมป์โลกได้\"\n",
        "        ]\n",
        "    },\n",
        "    \"drivers_history_elfyn\": {\n",
        "        \"questions\": [\"ประวัติ Elfyn Evans\", \"Elfyn Evans มีผลงานยังไงบ้าง\", \"ประวัติของ Elfyn\", \"ข้อมูลของ Elfyn\", \"Elfyn Evans\", \"Evans\", \"ผลงานของ Evans\", \"Elfyn\"],\n",
        "        \"responses\": [\n",
        "            \"{drivers[1]} เป็นรองแชมป์โลกปีล่าสุดและเป็นกำลังสำคัญของทีม\"\n",
        "        ]\n",
        "    },\n",
        "    \"drivers_history_taka\": {\n",
        "        \"questions\": [\"ประวัติ Takamoto Katsuta\", \"Takamoto Katsuta มีผลงานยังไงบ้าง\", \"ประวัติของ Taka\", \"Taka Katsuta\", \"Taka\", \"Katsuta\", \"ผลงานของ Takamoto\"],\n",
        "        \"responses\": [\n",
        "            \"{drivers[2]} มีพัฒนาการที่น่าจับตามองและเคยขึ้นโพเดียมมาแล้วหลายครั้ง\"\n",
        "        ]\n",
        "    },\n",
        "    \"drivers_history_ogier\": {\n",
        "        \"questions\": [\"ประวัติ Sébastien Ogier\", \"Sébastien Ogier มีผลงานยังไงบ้าง\", \"ประวัติของ Ogier\", \"Ogier\", \"Sébastien\", \"Ogier แข่งให้ทีมนี้ด้วยเหรอ\", \"ผลงานของ Ogier\"],\n",
        "        \"responses\": [\n",
        "            \"ใช่ครับ {drivers[3]} เป็นนักขับพาร์ทไทม์ที่ช่วยทีมเก็บคะแนนในบางสนามสำคัญ\"\n",
        "        ]\n",
        "    },\n",
        "    \"team_history\": {\n",
        "        \"questions\": [\"ประวัติทีม\", \"ทีมก่อตั้งเมื่อไหร่\", \"ทีมเคยได้แชมป์อะไรมาบ้าง\", \"ประวัติของทีม\", \"ความเป็นมาของทีม Gazoo Racing\", \"เรื่องราวของทีม\", \"สถิติทีม\"],\n",
        "        \"responses\": [\n",
        "            \"ทีม Gazoo Racing ได้รับการก่อตั้งขึ้นอย่างเป็นทางการในปี 2017 และสามารถคว้าแชมป์โลกผู้ผลิตได้หลายครั้ง รวมถึงแชมป์โลกนักขับกับ Sébastien Ogier และ Kalle Rovanperä\"\n",
        "        ]\n",
        "    },\n",
        "    \"drivers_standings_2025\": {\n",
        "        \"questions\": [\n",
        "            \"อันดับนักขับของ {team_short} ปี {year} ตอนนี้\",\n",
        "            \"คะแนนแชมป์นักขับของ {team_short} {year}\",\n",
        "            \"คะแนนของ {drivers[0]} ปี {year} เท่าไหร่\",\n",
        "            \"คะแนนของ {drivers[1]} ปี {year} เท่าไหร่\",\n",
        "            \"คะแนนของ {drivers[2]} เท่าไหร่\",\n",
        "            \"สรุป standings นักขับ {team_short} {year}\",\n",
        "            \"คะแนนนักขับ\",\n",
        "            \"ใครนำในตารางคะแนนนักขับ\",\n",
        "            \"คะแนนสะสมนักแข่ง\",\n",
        "            \"อันดับในตารางนักขับ\"\n",
        "        ],\n",
        "        \"responses\": [\n",
        "            \"อัปเดตถึง {asof_event} ({asof_date}) — {drivers[1]} อยู่อันดับ {standings['Elfyn Evans']['pos']} มี {standings['Elfyn Evans']['pts']} คะแนน, {drivers[0]} อยู่อันดับ {standings['Kalle Rovanperä']['pos']} มี {standings['Kalle Rovanperä']['pts']} คะแนน, {drivers[3]} อยู่อันดับ {standings['Sébastien Ogier']['pos']} มี {standings['Sébastien Ogier']['pts']} คะแนน และ {drivers[2]} อยู่อันดับ {standings['Takamoto Katsuta']['pos']} มี {standings['Takamoto Katsuta']['pts']} คะแนน\",\n",
        "            \"อันดับนักขับของทีม ณ {asof_event}: {drivers[1]} (P{standings['Elfyn Evans']['pos']}), {drivers[0]} (P{standings['Kalle Rovanperä']['pos']}), {drivers[3]} (P{standings['Sébastien Ogier']['pos']}) และ {drivers[2]} (P{standings['Takamoto Katsuta']['pos']}).\"\n",
        "        ]\n",
        "    },\n",
        "    \"team_principal\": {\n",
        "        \"questions\": [\"หัวหน้าทีม {team_short} คือใคร\",\"team principal {team_short}\", \"ใครเป็นหัวหน้าทีม\", \"ใครคุมทีม\", \"หัวหน้าทีมคือ\", \"ผู้จัดการทีมคือใคร\", \"ใครบริหารทีม\"],\n",
        "        \"responses\": [\n",
        "            \"หัวหน้าทีม (Team Principal) ของ Gazoo Racing คือ {team_principal} อดีตนักขับ WRC ชื่อดัง\"\n",
        "        ]\n",
        "    },\n",
        "    \"technical_director\": {\n",
        "        \"questions\": [\"ผู้อำนวยการฝ่ายเทคนิค {team_short} คือใคร\",\"technical director {team_short}\", \"ใครคุมทีมฝ่ายเทคนิค\", \"ใครดูแลเรื่องเทคนิค\", \"ใครคุมการพัฒนารถ\", \"ใครเป็นหัวหน้าวิศวกร\"],\n",
        "        \"responses\": [\n",
        "            \"ผู้อำนวยการฝ่ายเทคนิคของทีมคือ {technical_director} ซึ่งรับผิดชอบการพัฒนาด้านเทคนิคของรถแข่ง\"\n",
        "        ]\n",
        "    },\n",
        "    \"bases\": {\n",
        "        \"questions\": [\"ฐานทีม {team_short} อยู่ที่ไหน\",\"โรงงาน {team_short} อยู่ไหน\",\"where is {team_short} based\", \"ที่ตั้งทีม\", \"ที่ตั้งโรงงาน\", \"ทีมมีฐานอยู่ที่ใด\", \"สำนักงานใหญ่ของทีมอยู่ที่ไหน\"],\n",
        "        \"responses\": [\n",
        "            \"ฐานใหญ่ของทีมอยู่ที่ {base_chassis} ส่วนการพัฒนาเครื่องยนต์และเทคโนโลยีส่วนใหญ่เกิดขึ้นที่ศูนย์วิจัยใน {base_engine}\"\n",
        "        ]\n",
        "    },\n",
        "    \"car_name\": {\n",
        "        \"questions\": [\"รถปี {year} ของทีมชื่ออะไร\",\"ชื่อรถ {team_short} {year}\", \"รถแข่งของทีมคืออะไร\", \"รถของทีมชื่ออะไร\", \"ทีมใช้รถอะไร\", \"รถคันไหนที่ใช้แข่ง\"],\n",
        "        \"responses\": [\n",
        "            \"รถแข่งของทีมในฤดูกาลนี้คือ {car_name}.\"\n",
        "        ]\n",
        "    },\n",
        "    \"car_details\": {\n",
        "        \"questions\": [\"รายละเอียดรถ {car_name}\", \"รถใช้เครื่องยนต์อะไร\", \"รถมีจุดเด่นอะไร\", \"สเป็ครถเป็นยังไง\", \"รถคันนี้เป็นยังไง\", \"รถมีคุณสมบัติอะไรบ้าง\", \"สเป็ครถ Toyota Yaris Rally1\"],\n",
        "        \"responses\": [\n",
        "            \"{car_name} ใช้เครื่องยนต์เบนซิน 1.6 ลิตร เทอร์โบ ผสานกับระบบไฮบริด 100kW (134 แรงม้า) ตามกติกา FIA Rally1\",\n",
        "            \"จุดเด่นของรถคือการออกแบบที่เน้นความสมดุลและประสิทธิภาพในการขับขี่บนพื้นผิวที่หลากหลาย\"\n",
        "        ]\n",
        "    },\n",
        "    \"car_focus_2025\": {\n",
        "        \"questions\": [\"รถปีนี้พัฒนาจากปีที่แล้วตรงไหนบ้าง\",\"จุดเด่นรถปีนี้คืออะไร\", \"มีการปรับปรุงอะไรจากรถรุ่นก่อนบ้าง\", \"การพัฒนาของรถปี 2025\", \"รถปีใหม่มีอะไรเด่น\"],\n",
        "        \"responses\": [\n",
        "            \"ทีมเน้นการปรับปรุงระบบแอร์โรไดนามิก, ช่วงล่าง และการจัดการพลังงานไฮบริดเพื่อเพิ่มประสิทธิภาพในทุกสภาพถนน\"\n",
        "        ]\n",
        "    },\n",
        "    \"power_unit\": {\n",
        "        \"questions\": [\"เครื่องยนต์ของ {team_short} {year} คืออะไร\",\"engine {team_short} {year}\", \"รถใช้เครื่องยนต์แบบไหน\", \"ระบบไฮบริดเป็นยังไง\", \"เครื่องยนต์ของรถ\", \"รถใช้พลังงานอะไร\", \"เครื่องยนต์ไฮบริด\"],\n",
        "        \"responses\": [\n",
        "            \"รถแข่งใช้เครื่องยนต์แบบ {power_unit} ซึ่งเป็นการผสานพลังงานแบบดั้งเดิมเข้ากับเทคโนโลยีไฮบริด\"\n",
        "        ]\n",
        "    },\n",
        "    \"constructors_standings_asof\": {\n",
        "        \"questions\": [\"คะแนนทีม {team_short} {year} ตอนนี้\",\"ทีม Gazoo Racing มีคะแนน Manufacturers เท่าไหร่\", \"อันดับทีมล่าสุด\", \"คะแนนทีมผู้ผลิต\", \"ใครนำในตารางทีม\", \"อันดับผู้ผลิตตอนนี้\"],\n",
        "        \"responses\": [\n",
        "            \"{constructors_points_asof} ในขณะที่ Hyundai Shell Mobis อยู่อันดับสอง\"\n",
        "        ]\n",
        "    },\n",
        "    \"results_live_disclaimer\": {\n",
        "        \"questions\": [\"ผลล่าสุดวันนี้\",\"ทีมชนะไหมวันนี้\",\"คะแนนสด\", \"ใครชนะ\", \"อัปเดตผลสด\", \"ผลคะแนนตอนนี้\", \"อัปเดตการแข่ง\", \"วันนี้ใครได้แชมป์\", \"ผลการแข่งขันล่าสุด\", \"สรุปผลการแข่งขัน\"],\n",
        "        \"responses\": [\n",
        "            \"ผมไม่สามารถบอกผลแบบเรียลไทม์ได้ ข้อมูลล่าสุดของผมอัปเดตถึง {asof_date} หลังจบ {asof_event}\"\n",
        "        ]\n",
        "    },\n",
        "    \"team_rivals\": {\n",
        "        \"questions\": [\"คู่แข่งหลักของ Gazoo Racing คือใคร\", \"ทีมไหนแข่งกับ {team_short} ปี {year}\", \"ใครเป็นคู่แข่งที่น่ากลัวที่สุด\"],\n",
        "        \"responses\": [\n",
        "            \"คู่แข่งหลักในฤดูกาล {year} ได้แก่ Hyundai Shell Mobis และ M-Sport Ford 🏎️\",\n",
        "            \"ทีมที่เบียดแย่งแชมป์กับ {team_short} มากที่สุดคือ Hyundai\"\n",
        "        ]\n",
        "    },\n",
        "    \"out_of_scope\": {\n",
        "        \"questions\": [\n",
        "            \"สภาพอากาศวันนี้\", \"ราคา BTC วันนี้\", \"ผลการแข่ง le mans 24 hours\", \"ราคาทอง\", \"Ferrari 488 pista ใช้เครื่องกี่สูบ\", \"ข่าวการเมืองวันนี้\",\n",
        "            \"ทีม hyundai\", \"ทีม hyundai ปี 2025\", \"ทีม bmw\", \"ทีม m-sport\",\n",
        "            \"ไก่ทอด\", \"ปลา\", \"ผลบอล\", \"วันนี้กินอะไรดี\", \"มีอะไร\", \"มีอะไรให้ช่วยอีกไหม\", \"อะไรก็ได้\", \"ข่าว\", \"สวัสดีปีใหม่\"\n",
        "        ],\n",
        "        \"responses\": [\n",
        "            \"ขออภัยครับ บอทนี้ตอบเฉพาะเรื่องที่เกี่ยวข้องกับทีม WRC Toyota Gazoo Racing ในปี {year} เท่านั้นครับ/ค่ะ\"\n",
        "        ]\n",
        "    }\n",
        "}\n"
      ]
    },
    {
      "cell_type": "code",
      "execution_count": 36,
      "metadata": {
        "id": "6q399mEX3_QU"
      },
      "outputs": [],
      "source": [
        "# ---------- augmentation + dataset builder ----------\n",
        "EMOJIS = [\"🏎️\",\"✨\",\"🔥\",\"💬\",\"✅\",\"❓\",\"📊\",\"🏁\"]\n",
        "PUNCTS = [\"\",\"!\",\"!!\",\"!!!\",\"?\",\"??\",\"...\"]\n",
        "TEAM_SYNS = [\n",
        "    \"WRC Gazoo Racing\",\"WRC Toyota\",\"Gazoo Racing\",\"GR Team\",\n",
        "    \"Toyota Gazoo Racing\",\"ทีม Gazoo Racing\",\"ทีมโตโยต้า\"\n",
        "]\n",
        "YEAR_SYNS = [FACTS[\"year\"], f\"ฤดูกาล {FACTS['year']}\", f\"season {FACTS['year']}\", f\"{FACTS['year']} season\"]\n",
        "\n",
        "def augment(text: str) -> str:\n",
        "    t = text.strip()\n",
        "    r = random.random()\n",
        "    if r < 0.1: t = t.upper()\n",
        "    elif r < 0.2: t = t.capitalize()\n",
        "    if random.random() < 0.35: t += \" \" + random.choice(EMOJIS)\n",
        "    if random.random() < 0.35: t += random.choice(PUNCTS)\n",
        "    if random.random() < 0.1 and len(t.split())==1 and len(t)>3:\n",
        "        t = t[:-1] + t[-1]*random.randint(2,4)\n",
        "    return t\n",
        "\n",
        "def expand_question(q):\n",
        "    return q.replace(\"{team_short}\", random.choice(TEAM_SYNS)).replace(\"{year}\", random.choice(YEAR_SYNS))\n",
        "\n",
        "def build_dataset(target_rows=9000, seed=42):\n",
        "    random.seed(seed)\n",
        "    rows = []\n",
        "    intents = list(INTENT_TEMPLATES.keys())\n",
        "    per_intent = max(200, target_rows // len(intents))\n",
        "    for intent, pack in INTENT_TEMPLATES.items():\n",
        "        qs = pack[\"questions\"]\n",
        "        rs = [fill_response(r) for r in pack[\"responses\"]]\n",
        "        for _ in range(per_intent):\n",
        "            q = augment(expand_question(random.choice(qs)))\n",
        "            r = augment(random.choice(rs))\n",
        "            rows.append((q, intent, r))\n",
        "    random.shuffle(rows)\n",
        "    return pd.DataFrame(rows, columns=[\"question\",\"intent\",\"response\"])"
      ]
    },
    {
      "cell_type": "code",
      "execution_count": 37,
      "metadata": {
        "colab": {
          "base_uri": "https://localhost:8080/"
        },
        "id": "FSybHeW58-qE",
        "outputId": "5be1bb03-3a36-46a8-90a1-a9f70521c3b4"
      },
      "outputs": [
        {
          "name": "stdout",
          "output_type": "stream",
          "text": [
            " สร้าง qa_dataset.xlsx จำนวนแถว: 8993\n"
          ]
        }
      ],
      "source": [
        "# --- สร้างและบันทึก dataset ---\n",
        "df = build_dataset(target_rows=9000)\n",
        "df.to_excel(\"qa_dataset.xlsx\", index=False)\n",
        "print(\" สร้าง qa_dataset.xlsx จำนวนแถว:\", len(df))"
      ]
    },
    {
      "cell_type": "code",
      "execution_count": 38,
      "metadata": {
        "colab": {
          "base_uri": "https://localhost:8080/"
        },
        "id": "vZFqxqhN4kjs",
        "outputId": "3f8bf13a-4898-49a8-8365-f9a2fcd5849a"
      },
      "outputs": [
        {
          "name": "stdout",
          "output_type": "stream",
          "text": [
            "Accuracy: 0.9817\n",
            "                             precision    recall  f1-score   support\n",
            "\n",
            "                      bases       0.93      1.00      0.96        78\n",
            "               capabilities       1.00      1.00      1.00        78\n",
            "                car_details       1.00      1.00      1.00        78\n",
            "             car_focus_2025       1.00      1.00      1.00        78\n",
            "                   car_name       1.00      1.00      1.00        78\n",
            "constructors_standings_asof       1.00      1.00      1.00        78\n",
            "               drivers_2025       1.00      0.92      0.96        79\n",
            "      drivers_history_elfyn       1.00      1.00      1.00        79\n",
            "      drivers_history_kalle       1.00      1.00      1.00        78\n",
            "      drivers_history_ogier       1.00      0.99      0.99        78\n",
            "       drivers_history_taka       1.00      0.97      0.99        79\n",
            "     drivers_standings_2025       0.93      1.00      0.96        78\n",
            "                    goodbye       1.00      0.99      0.99        78\n",
            "                   greeting       0.96      0.99      0.97        78\n",
            "               out_of_scope       1.00      0.90      0.95        79\n",
            "                 power_unit       1.00      1.00      1.00        78\n",
            "    results_live_disclaimer       1.00      0.99      0.99        78\n",
            "                  team_goal       1.00      1.00      1.00        78\n",
            "               team_history       1.00      1.00      1.00        78\n",
            "              team_overview       1.00      1.00      1.00        79\n",
            "             team_principal       1.00      0.83      0.91        78\n",
            "                team_rivals       1.00      1.00      1.00        78\n",
            "         technical_director       0.81      1.00      0.90        78\n",
            "\n",
            "                   accuracy                           0.98      1799\n",
            "                  macro avg       0.98      0.98      0.98      1799\n",
            "               weighted avg       0.98      0.98      0.98      1799\n",
            "\n"
          ]
        }
      ],
      "source": [
        "# =========================================================\n",
        "# 2. Train, Evaluate, Save Model\n",
        "# =========================================================\n",
        "\n",
        "# Load (จากไฟล์ที่เพิ่งสร้าง)\n",
        "df = pd.read_excel(\"qa_dataset.xlsx\")\n",
        "\n",
        "X, y = df[\"question\"], df[\"intent\"]\n",
        "X_train, X_test, y_train, y_test = train_test_split(\n",
        "    X, y, test_size=0.2, random_state=42, stratify=y\n",
        ")\n",
        "\n",
        "model = make_pipeline(TfidfVectorizer(), MultinomialNB())\n",
        "model.fit(X_train, y_train)\n",
        "\n",
        "responses_dict = df.groupby(\"intent\")[\"response\"].apply(list).to_dict()\n",
        "\n",
        "from sklearn.metrics import accuracy_score, classification_report, confusion_matrix\n",
        "y_pred = model.predict(X_test)\n",
        "print(f\"Accuracy: {accuracy_score(y_test, y_pred):.4f}\")\n",
        "print(classification_report(y_test, y_pred))"
      ]
    },
    {
      "cell_type": "code",
      "execution_count": 39,
      "metadata": {
        "colab": {
          "base_uri": "https://localhost:8080/"
        },
        "id": "tjQIxH7X1Xkc",
        "outputId": "6b43f205-c56d-4cc1-eb41-bec8cd607d4e"
      },
      "outputs": [
        {
          "name": "stdout",
          "output_type": "stream",
          "text": [
            "Model saved as chatbot_model.pkl\n"
          ]
        }
      ],
      "source": [
        "# Save model\n",
        "joblib.dump(model, \"chatbot_model.pkl\")\n",
        "print(\"Model saved as chatbot_model.pkl\")"
      ]
    },
    {
      "cell_type": "code",
      "execution_count": 40,
      "metadata": {
        "colab": {
          "base_uri": "https://localhost:8080/"
        },
        "id": "aS9808Ek5BU0",
        "outputId": "65357820-c113-4f24-b630-f0440c930164"
      },
      "outputs": [
        {
          "name": "stdout",
          "output_type": "stream",
          "text": [
            "สำหรับฤดูกาล 2025 นักขับหลักของทีมคือ kalle rovanperä, elfyn evans และ takamoto katsuta รวมถึง sébastien ogier ที่ลงแข่งบางสนาม\n",
            "รถแข่งของทีมในฤดูกาลนี้คือ Toyota GR Yaris Rally1 Hybrid. ✨\n",
            "หัวหน้าทีม (Team Principal) ของ Gazoo Racing คือ Jari-Matti Latvala อดีตนักขับ WRC ชื่อดัง\n"
          ]
        }
      ],
      "source": [
        "import random\n",
        "def chatbot_response(user_input: str):\n",
        "    intent = model.predict([user_input])[0]\n",
        "    fallback = f\"ขอโทษครับ/ค่ะ บอทนี้ตอบเฉพาะ {FACTS['team_short']} ฤดูกาล {FACTS['year']} เท่านั้น\"\n",
        "    return random.choice(responses_dict.get(intent, [fallback]))\n",
        "\n",
        "print(chatbot_response(\"นักขับของ GR Team ปี 2025 มีใครบ้าง\"))\n",
        "print(chatbot_response(\"รถปี 2025 ของทีมชื่ออะไร\"))\n",
        "print(chatbot_response(\"หัวหน้าทีมคือใคร\"))"
      ]
    },
    {
      "cell_type": "code",
      "execution_count": 41,
      "metadata": {
        "colab": {
          "base_uri": "https://localhost:8080/"
        },
        "id": "v6POgO2E101M",
        "outputId": "4a6719be-fc59-4d07-89dd-0e6515931220"
      },
      "outputs": [
        {
          "name": "stdout",
          "output_type": "stream",
          "text": [
            "Overwriting app.py\n"
          ]
        }
      ],
      "source": [
        "%%writefile app.py\n",
        "import os\n",
        "import streamlit as st\n",
        "import pandas as pd\n",
        "import random\n",
        "import joblib\n",
        "\n",
        "# ปิด usage stats\n",
        "os.environ[\"STREAMLIT_BROWSER_GATHERUSAGESTATS\"] = \"false\"\n",
        "\n",
        "MODEL_PATH = \"chatbot_model.pkl\"\n",
        "DATASET_PATH = \"qa_dataset.xlsx\"\n",
        "\n",
        "# โหลดโมเดล/ชุดคำตอบ\n",
        "try:\n",
        "    model = joblib.load(MODEL_PATH)\n",
        "    df = pd.read_excel(DATASET_PATH)\n",
        "    intent_to_response = df.groupby(\"intent\")[\"response\"].apply(list).to_dict()\n",
        "    is_ready = True\n",
        "except FileNotFoundError:\n",
        "    st.error(\"ไม่พบไฟล์ 'chatbot_model.pkl' หรือ 'qa_dataset.xlsx' โปรดตรวจสอบว่าคุณได้รันโค้ดส่วนก่อนหน้าแล้ว\")\n",
        "    is_ready = False\n",
        "\n",
        "st.set_page_config(page_title=\"WRC Toyota Gazoo Racing 2025 Chatbot\", page_icon=\"🏁\")\n",
        "st.title(\"WRC Toyota Gazoo Racing 2025 Chatbot\")\n",
        "st.caption(\"สอบถามข้อมูลเกี่ยวกับทีม WRC Toyota Gazoo Racing ฤดูกาล 2025 ได้ที่นี่\")\n",
        "\n",
        "# session state\n",
        "if \"history\" not in st.session_state:\n",
        "    st.session_state.history = []\n",
        "\n",
        "# input\n",
        "user_input = st.text_input(\"คุณ: \", \"\", placeholder=\"ถามเกี่ยวกับทีม WRC Toyota Gazoo Racing 2025...\")\n",
        "\n",
        "col1, col2 = st.columns([1,1])\n",
        "with col1:\n",
        "    send = st.button(\"ส่ง\", type=\"primary\", disabled=not is_ready)\n",
        "with col2:\n",
        "    clear = st.button(\"ล้างประวัติ\")\n",
        "\n",
        "if clear:\n",
        "    st.session_state.history = []\n",
        "\n",
        "if send and user_input.strip() and is_ready:\n",
        "    predicted_intent = model.predict([user_input])[0]\n",
        "    fallback = \"ขอโทษครับ/ค่ะ บอทนี้ตอบเฉพาะเรื่องที่เกี่ยวข้องกับทีม WRC Toyota Gazoo Racing 2025 เท่านั้น\"\n",
        "    bot_reply = random.choice(\n",
        "        intent_to_response.get(predicted_intent, [fallback])\n",
        "    )\n",
        "    st.session_state.history.append({\"user\": user_input, \"bot\": bot_reply})\n",
        "\n",
        "# history\n",
        "for chat in st.session_state.history:\n",
        "    st.markdown(f\"**คุณ:** {chat['user']}\")\n",
        "    st.markdown(f\"**🤖 บอท:** {chat['bot']}\")"
      ]
    },
    {
      "cell_type": "code",
      "execution_count": 42,
      "metadata": {
        "colab": {
          "base_uri": "https://localhost:8080/"
        },
        "id": "YJjeYBit01bD",
        "outputId": "30ce2eae-510b-4d22-be7b-7251be7ab658"
      },
      "outputs": [
        {
          "name": "stdout",
          "output_type": "stream",
          "text": [
            "Authtoken saved to configuration file: C:\\Users\\s3795\\AppData\\Local/ngrok/ngrok.yml\n"
          ]
        }
      ],
      "source": [
        "!ngrok authtoken 2spnfIOdpl97fYtMczqo8uE2oDf_3Rq1fBtjHEU798kjtpzet"
      ]
    },
    {
      "cell_type": "code",
      "execution_count": null,
      "metadata": {
        "colab": {
          "base_uri": "https://localhost:8080/"
        },
        "id": "0DUhMKVt18Y0",
        "outputId": "205bbfb7-421f-4923-94e1-2d07361c4e1c"
      },
      "outputs": [],
      "source": [
        "!streamlit run app.py --server.port 8501 & --server.headless true"
      ]
    },
    {
      "cell_type": "code",
      "execution_count": 45,
      "metadata": {
        "colab": {
          "base_uri": "https://localhost:8080/"
        },
        "id": "yXeyszkD2DR2",
        "outputId": "73c84593-ea1e-40e3-d883-832d900f0a79"
      },
      "outputs": [
        {
          "name": "stdout",
          "output_type": "stream",
          "text": [
            "🌍 Open your app here: NgrokTunnel: \"https://1bab42b6d663.ngrok-free.app\" -> \"http://localhost:8501\"\n"
          ]
        },
        {
          "name": "stderr",
          "output_type": "stream",
          "text": [
            "t=2025-10-21T00:45:45+0700 lvl=warn msg=\"failed to check for update\" obj=updater err=\"Post \\\"https://update.equinox.io/check\\\": context deadline exceeded\"\n",
            "t=2025-10-21T00:45:47+0700 lvl=warn msg=\"failed to open private leg\" id=72339889959c privaddr=localhost:8501 err=\"dial tcp [::1]:8501: connectex: No connection could be made because the target machine actively refused it.\"\n",
            "t=2025-10-21T00:45:48+0700 lvl=warn msg=\"failed to open private leg\" id=a46caaed8156 privaddr=localhost:8501 err=\"dial tcp [::1]:8501: connectex: No connection could be made because the target machine actively refused it.\"\n"
          ]
        }
      ],
      "source": [
        "# เปิดทางเข้า ngrok\n",
        "from pyngrok import ngrok\n",
        "ngrok.kill()\n",
        "public_url = ngrok.connect(8501)\n",
        "print(\"🌍 Open your app here:\", public_url)"
      ]
    }
  ],
  "metadata": {
    "colab": {
      "provenance": []
    },
    "kernelspec": {
      "display_name": "Python 3",
      "name": "python3"
    },
    "language_info": {
      "codemirror_mode": {
        "name": "ipython",
        "version": 3
      },
      "file_extension": ".py",
      "mimetype": "text/x-python",
      "name": "python",
      "nbconvert_exporter": "python",
      "pygments_lexer": "ipython3",
      "version": "3.10.5"
    }
  },
  "nbformat": 4,
  "nbformat_minor": 0
}
