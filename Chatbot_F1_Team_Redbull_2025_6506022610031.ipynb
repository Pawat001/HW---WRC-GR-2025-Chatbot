{
  "cells": [
    {
      "cell_type": "markdown",
      "metadata": {
        "id": "PmsYJop-_12l"
      },
      "source": [
        "นางสาวพรธวัล คุ้มภัย INE 6506022610031"
      ]
    },
    {
      "cell_type": "code",
      "execution_count": null,
      "metadata": {
        "colab": {
          "base_uri": "https://localhost:8080/"
        },
        "id": "tJrhLKctzSBY",
        "outputId": "4fcf9d27-cf6e-41c2-8eda-533e85d44940"
      },
      "outputs": [
        {
          "name": "stdout",
          "output_type": "stream",
          "text": [
            "\u001b[2K   \u001b[90m━━━━━━━━━━━━━━━━━━━━━━━━━━━━━━━━━━━━━━━━\u001b[0m \u001b[32m10.0/10.0 MB\u001b[0m \u001b[31m70.5 MB/s\u001b[0m eta \u001b[36m0:00:00\u001b[0m\n",
            "\u001b[2K   \u001b[90m━━━━━━━━━━━━━━━━━━━━━━━━━━━━━━━━━━━━━━━━\u001b[0m \u001b[32m6.9/6.9 MB\u001b[0m \u001b[31m69.0 MB/s\u001b[0m eta \u001b[36m0:00:00\u001b[0m\n",
            "\u001b[?25h"
          ]
        }
      ],
      "source": [
        "!pip -q install pandas scikit-learn openpyxl streamlit pyngrok joblib"
      ]
    },
    {
      "cell_type": "code",
      "execution_count": 84,
      "metadata": {
        "id": "Npk8JPqkzTWs"
      },
      "outputs": [],
      "source": [
        "import os, re, json, random\n",
        "import pandas as pd, joblib\n",
        "from sklearn.model_selection import train_test_split\n",
        "from sklearn.pipeline import make_pipeline\n",
        "from sklearn.feature_extraction.text import TfidfVectorizer\n",
        "from sklearn.naive_bayes import MultinomialNB"
      ]
    },
    {
      "cell_type": "code",
      "execution_count": 127,
      "metadata": {
        "id": "w-n707dLzgSU"
      },
      "outputs": [],
      "source": [
        "FACTS = {\n",
        "    \"year\": \"2025\",\n",
        "    \"team_short\": \"F1 Team Red Bull\",\n",
        "    \"team_full\": \"Oracle Red Bull Racing\",\n",
        "    \"drivers\": [\"Max Verstappen\", \"Liam Lawson\"],\n",
        "    \"team_principal\": \"Laurent Mekies\",\n",
        "    \"technical_director\": \"Pierre Waché\",\n",
        "    \"car_name\": \"Red Bull Racing RB21\",\n",
        "    \"power_unit\": \"1.6L V6 turbo-hybrid (Honda RBPTH003)\",\n",
        "    \"base_chassis\": \"Milton Keynes, UK\",\n",
        "    \"base_engine\": \"Milton Keynes, UK\",\n",
        "    \"constructors_points_asof\": 239,\n",
        "    \"asof_event\": \"Italian Grand Prix\",\n",
        "    \"asof_date\": \"2025-09-10\",\n",
        "    \"max_song\" : \"https://youtu.be/mS41bHNw1WI?si=idnXKPox1kYTav-e\",\n",
        "    \"max_picture\" : \"data:image/jpeg;base64,/9j/4AAQSkZJRgABAQAAAQABAAD/2wCEAAkGBxMTEhUSEhMWFhUWGB0aGBcYGRoXFxogHR4eGBgeHhoaHSggGh0lGxgXITEhJSorLi4uFx8zODMtNygtLisBCgoKDg0OGxAQGy0lHyUtLSsvLS0tLS0tLS0tLS0tLS0tLS0tLS0tLS0tLS0rLS0tLS0tLS0tLS0tLS0tLS0tL//AABEIALcBEwMBIgACEQEDEQH/xAAcAAABBQEBAQAAAAAAAAAAAAAFAAMEBgcCAQj/xABIEAACAQIEAwUEBwUHAgQHAAABAgMAEQQSITEFBkETIlFhcTKBkaEHFCNCUrHBFZLR4fAWM1NicqLxQ1RjgsLSJkR0g7LT4v/EABkBAAMBAQEAAAAAAAAAAAAAAAABAgMEBf/EACwRAAICAgICAQIDCQAAAAAAAAABAhESIQMxE0EiUWFxgdEEFDIzkaHB8PH/2gAMAwEAAhEDEQA/ANMw2ISQXRgw8jen8tYtyrzkMMDAlrXJzbaZr2HibaeVabwrnDCTIp7QKxt3DuL6VceRMifDKJO45BO0LLhnCS6WY6jz+VULlbCYiPjBXFSCSTsC2Ya6Eiw8tjWnwsrC6kEeI1qk4aP/AOIJP/pV/wDypv0RH2i6EV5aucXiY4xd3C9NTTtqqyaG7V7XWWllosKPBXte2r0LRYUICu012N7aaV6or5exPH8fhsTPmaSGV5A8qEBLsrCRGZVUKWuASwHeBPRqTlRSjZv3My3nw67AiS5vawtvUf6OuHwxQOsGIM4zm5LZrHqK5w/Ekx5wM6Zcs0bllvfKbAOvqrXHuo5y5y7Dg4zHCuUM2Y+tABArXlqiYTiqSTSQqGzR2zXUga+B2PuqfloFQ3lr3LTXEcYkEbSyEKq7k6VWuNcfM0bLhCC4GoB7ytva3jrSckuyo8cpdItWWlaq9yjzKuJURvpMB3lO4tobjoasuWmnZNDYFdBa7C1WOdudYeHhUNpMRJ/dxZgtv8zndE91ydAN7FhRTuf/AKUDh5p8HAMrIUTtwAxU2LS2UmxYXRVBsL5ydAKtn0d8yfX8GJrWZGMbAsHa6gd5iEUZmBB0FtfcMj5a5MxPF8bPLiGWNBLmnddyX72WMa/dtqfZBF7nQ79w3hcWHiWGCNY40FlVf1O5J6k6nrUpsqSXR0RXhp0rXBFXZFDdeU5avCKLChs14actXlqLChuvKctXlqLChuvDTtq8tSsKGrUqdsKVFjo+XYRYtlAYNoLefhRDE4wRoyqCsl8rEm+nW1C5FeJLi4UnQ/zqVkR1JL982NvHx18axaTOuHI46NH5c5hOBhSQozmVbqmbujzPh08ajjm134hNiYUAdoFjAPRr/wATVcx/EHVizsFAjVQAN/SmYnUF2ViNEsTve/lUZPo0cIOpLu9o0fhXKeKllhnxLZirB2u1/QADQVpJWsZ5b5tOGWRgzysWtZiSB7jrVrwH0gXIMq5RqTbW46WquNxiqMudTnutfYvOWllqJwDiQxMXaqLKSbX8KjcT5nw0EixSSAM2wrbJVZzUFQtehaGT8yYZRcyLvbfxrvFcwQRukbN3ntYDzpZIKCZIAJOwqt8x8t4LisI7QDOAeylU2dff95b/AHTce/WiHG+MJDYP7L6X9azTFy4nBMxzWja/Zm+gB1tSbGkUTDcSn4ZKqxK0csEpEztcxuRpa3VGAFmABsw6m9bRy59JGGxiZGPYzlfZYgqx/wAj9fQ26jWseusrN2pzhgb6m+vgaBYnAtCuYMWT4Mt9N+h26WN6hTNUovTPpfgIl7aXPIjLZbKB3hprejuWsB5E5+bCszSASrIoBa1pAVGmv4dTdTtc2030nl7n6Bo7zObNmKuR3Tqe6COo291XkmRPjlF7K59IHMokmjgdHCRvuNVL6Fbkbb9el/GhnBeOx4YlmVWFvZUXYm4tYBzpoBbbu71W+Y8WJ55pUYAXPdJsxF+6+UnXTu9LAddaiczYKRisnZPEgAVrgDvWuBYdbUvj22bQXJSUV31+Jp2Hx9uJR4gwND9ZAzqSpOa1rnLcC9gbe/rWnBKxXl1lwywRiRXUsGeW4yBmbRAxsT3QDcge1sNqm/SB9KWa+F4a+wtNiANhsVjzdf8AP06eIH8W/oZ4OUqXZN+kT6Thhy2FwLK0oB7SfRkh6WA2eTy2BsNTcDNeTOW5+L4pixZo1IaeaRrsb6asblnIBsuwsNhvE5X5dm4hiVigiYQhgJJAt0jB0DNcgGw2F7m3nW+rxzh/DYlwquF7JQLaFmIGpaw1Y7k1N3tlSqHxj/X/AH0MQPg+DxDDxXIeRnsWDOWbXU7mwAUdbKN965xvPsCILg5zsvW3jVJ5l4ynFJkXDRgMoPfOhNVfmSQPLHHZlaNcrX8RUS5GjOjdOWeJnEw9oQLE6elFGWqhybiPq+EVChBte17k+dXKCQOoNaxlaJaGiteFKh8a4okQRcwDSNlTXrVFwPM80c7fWJhaNypTTXqNeulqrIVGiFa8y13hZM6Bx1F6WIkVFLsbKouTTsKOMtLJQg804Zo5GjkUlFv8qpv9v8UREexVVLd6S91IHtADobVLmh4s0jJXmSh7cyYfsmlzjugEjrrqNPOgPGPpHwsKRut3zi9huvrfbWnkhUW7JXlZiPpaP/bj974dKVR5Ihiyk8vYorawEgF7q2o1Fjag3GsOvaF4lKJp3PDxt5UWwEzIyKCAwBzC2o6WrzHyh4rDVh06766VnH4rs75pTl0BRjw4tICwVTYE21O3rUzDNlgZrXN039aGTQ3GmhogpK4Vr6kMn501JSMp8codk3h+LZpVkYqpZ7EDa9utE8BiZ5pG7JcwDFDa2VQD4+f60BhmEzBe6LG/lT0fFDAojiYr37uQbZh4VVLsFN6Rf+HcyYqBDEir3thb2ap3F2lYiSYEkHfxohgcd2spZDl7txcb9LflU/iOIQxZWHeFr66f1tWd3Vmj41K2gBDjiwy3st71Jx2LAdHLk6b32pScFKgFB3jsviN6AYgm9n01PuqMbdmMouOmFOYeY5Jyis7FF2BNR8fx+WaII5LBdvQbXoViSBsb00kxFbLozC2BxNwTYXp9kz5gLEW1vULh6DJIRvapvDsOzLva+96h9jBXEeF9i2aAlltqvX3eP5+tC8Q47rxkj00ynyttVxigjz2YknraoHFeHxFHaMWb1310uNr36+tGVOzSMrWD/L7AHCYiSNllVTcahmBZWYG5vfe+gI9KN4nm2eVHUJGmcEsb3GmncB0BFh4nQetDsDDG8YU4lkJOqalSS1h3bWGmVr3PXQWpyDCoGzieKxNguZTa975ryKdO6brfw2GurRCkwficQxRVLXAv1v6H33O/h5UV5W4BNjpUwsAClrGRzqqKd2PmRbujfQeNRsbAkgTJIrOB9qFUKq3tbKVXvddSTt0q88tI0AXsmKFwC5X2tdT8NvdSlVpMqMnFNr3r9TauVeWoMBhxh8Otl3djqztaxZj46DTYdKy36RxE8jx4bClpFJ7STL79+tWrBcZkhgd2kdgfZzD8jbWqpx76Q2KSRog7y2z21BptoxM7wkjxkSLdTfcaU9JKzS3ZixJvc701LjHkADHRTppXjSa6GxtvWMkMtfDOZpsM/aOS7DQDcWqFjOdcSXd0kZMxvlB0HxoLhZyXAO3WmscwZjr1qVd0wCuAx3ayBpnc72YsSVPQi5qfwFY3lY4h+6puT95jtvVVhQk21tTsmILaLvV7QzceR+I4eGByZiyltMxJIGwAB29KFfSJz1H2T4aInM2ha2luvvqk4DjQwsNuzBkZh3qCcRzztnfcn0p56oKG4MQfuk67+Yon27LEqpLpe5Q7C+9qiR4Jkt4Wpz6wL3yjTS9ZZU9DCXbqyGVdDHHlYHUNvrb30F5n4UYJEAbOrxrIDse9uLeRvUjjHDJIlWXTI9tQdPGxqBieIO7ZpDm0sL7AeXhWq6ERw196VPCRfClSAufGeU5MHDEZcrM0ljIDqL6++h/E8MyyRlUz6tdl6jYe+1Wj6XsH2axPnYq0o+zv3RYdKsGN5ThkjjKKI3JBup02633qsTbyMy7iHCPs2cgKAbj3nY1DwWE7UNCDuyjy+NaTxfhKrhpdMsiOEY3JQ3Aa9j5EVn/CJMmdlGa5AH9dalqi1Nyr8SHJypiY5bKtrkrm3XQX39KG47DmI3kIJJsbDQVdU4kCgZncEOTkG2uhrriRjeEzDKxzhOzYd4A/e/rwpqTsHCL2VQzNGxK3AKiwPSpPLfFynamRO0Q6nN40Wx+EVmXKrGy7Wtt+lOYjgIYSIkmUvlNiLAeNzQ3svjTim0ziPjMbqsxfIwawA6Dwo00EWIwy3iAYknMd2v1qlYrlp1zqDmK7dAatHJmKZ0OGlGVgO4za/CnVE53pqircU5aliTOLMuu24oCa2BeXZXLDPcFbAeJoLxDkuJorAFZhv4e+nddmTgqtFLwjWikt5U9gsWbBT1O9PcU4QcMroXDXAIIqNwsDTNvfSh0ZtVph4QCOYFjra9B8diwWZgNCTRLjM5+sFTqMmlVrtDtSSsLoe4aY0GWWMtmltGcoIB9nU5vlbpf0s3EeOYSTCRg2YDXL2RzADRegVLai4OpHXWq1h8S95FURkICe+bHvXYkfiPSw1103JqKvFNSoRbEBQLgL9/cZRp9p5bak61z8nB5GpO9b7PShzQh8bVfeN7/yS4nV5EaJCsZXJYgaEZm3zHN1102qzLjSCSpJsflVXw8hLhbxgAMQqNmOiN1GlrXotw+XulTWzTpWcXNi38f0+n9g/wAR53d8L9Vyiw+91tVMnkPXrT+JdQ1lFR5XvYW2quzA57XS1cgmxriTyrhp9KdAPRyda9SYCoiC9PItDSAn4SS5t46U/wBmgdh7JFDI5iNt6U05Y3O5qHHYE15SzZF36U+c4Yq+9QcBLlZSf50cGDkMpUjXVlvtb+jUuL9DIk2KIXL1FRZJ+4DU7hfAmmlszWVrm430qdxPlgRTnD9oSAua9UuOhlfkxblbFjl3y9L+lRUJLWo7DwpCGDE9w2HwvXqYSMQF8ozFTrWmIgSIfOlRv9pRIArDUAX08qVTQ6ND+kyMPFDm1Ge4v00q1YdnyRXbw/Ksw49zlDiYIDqLGxO5vbYje9XDgXNkM8iYYB1lUah0IuAN7++qGNceLSw4lGOnbqNND7K1VcLwZAGCkrZhYkjTw3qz8TY9nibdcR/6RVO45iWjhZirMuYZstr+R1/SnFJumJtpaJmC5dZUkzMSGJKvofMip64BSfZHdsSdr0z9H8zYu8bMYoyt0zgEvJex1Gy2Fh460TxMbxvLG4sy6GnOCjLQ4zlQJ5jh+zZxnU3Auvgf0qO3DnEBYTLIJTpbdbaW9aMT40hHB2v+lVDD8zx/V2jIyiNiVH3jrrWMryVFrkktIJ4rhjSIqh8pQDNprXWAwJBBuGA0J2NdcK4isytMmzLqPAjQipXDG7hIq6Fmwc/EJo3UR9pe+vXSp2H4pKRZg+psWI1t1qZ9646inMP00pisqvMEZkZhGjEZbXI3qvx4NkIJzD1BrUY2JfKBc22oNzbx/wCrKFVEMrdGt3bb3G9FC7Ktj5byE2+7agmHwbtewPjWzcu4PD47CrI0aXZdx0P/ADVe4ty82G0dgytfbQ2/4pxRLMmxert6n+FNWpyf2m/1H86bproqf8TC3KuX63CHF1JIYbXBVgRfzBtVm5g4b2OIeOElo90YixKsMy387Ee+qhwVrYiEj/EX8xWhyM+KkkKEtkIHecMwGqhdACLZba7+dTOu2C3EqK8OlcnKpNt7V0/B8QL3ie3pV64Pw6ZCTYDTxowwky2t0Pvrl5P2jGVKi48Vq2ZRh8Ob2KmlJwLEXsIn+FXaPBSX1w/Xe9H1ikIII0KkaHXUWpz/AGjHoceK+zL4eEzdmGEZy5rFxY28djp76M/svBTM4hnZCgUMsliSTYMwtuBc3A2yHxFAeG4VkeSJgWujd3XRhqCQD0sfjUeLDsGiMCs7swFiM5JuDbL1udK3sWFIKY7l54gbspt4G9/Ag9QRrfzqdwLkvEzL2rx5Ible0YgBT0JG9r6bdaMoiqJUxAeKSGzMCpB72xUG91vsbnQbmvTzOhjnjMkuSRB3ABlZh1NxpfS9rVPJ5EvijP2BcPyqwIaWZEGYobAtlYC6g+TdD5iiYktOC7qo7M5b9ToLDzqdwXnYQtIJIiyvYkWBOYW1pnivLs3EMQkkSHDwEEntLA6m4KqNfjRxR5JdmvIoR6/MhwyPAiSpYMe74jU/wqXiZ2fFFmOvZ/rUjF8uT4aJs6/WI0YMpQgMqgD2l9b6i9Bv7Rxh8/YEkrb262cWuzGzwKcsp/zmvXwh+phr7Lf4n+dN/t5QumHFmJJBc14eYz2fZ/V48trWJY/1tRQEocLGlyt7ClUBuaGO+Hi/3fxpUsQ2VXg6rJKFkJAsTp42rbuQ+XzhYlld2eSYKTmt3bKbAHfY1nHLXJXa4mSJMTEzRrmGW9yBYnTw71vca2DE4nso0aRwqrYXt1tU9s0xaQIxbnsp/PEn8hWU8dxbzstnCopY6G3XLr41q2KwqSYWWRJCy53kuBbVVvb5VjfBX+zLEXJf4bMTbwvWkI7HGNuiVw/7BWmaUl01UBiAw6D362rS8NIzxGWxIyKSb33A3O9Zrx5c2HUkKJCwFgdwNtBWs8i4dTgYu1ADFMr6jWx7t/dVckQ5IYtIrvEuJLFmuMwLDT3Vm3GuIJI/2aZQpPqfG9b9ieXcNMjKQgboRa400NY9znwUnG/V4kRGCXKlggJ62LG2u/xrnwjGWTM8e3Yd5EZJMK7qgUowDeDX60bUhbgaXqBykGgwLYeXKHZwyqGVjpvqpIrvEz1DmnLXQt2Eo2YhGCkgG1wLinIi3RW38Kn8nf3Sebtc9DRzimLMGZ1izqFubMqnwsL71UKaNJwxKJx3EzwxyzorAqujW2NZHLjXZ+0Zizk3LNrc19D8yYJ8RgcUpXI1iVXMDsLjUV85Rr4itYktG+cncUQwJHdVkCi6ezr4gHcelP8AMkBeEtJrbS22+m9xb1uPWu+CrhzhYRKqOwjUAkAnahfNsgGFk7Gym3Tb330rKXNGLofxMQnPeb/UfzpkHWn8X7ZPjr8Rf9amLgk+pNMfb+sBB/pCXYfF1+FaZUkEl8nX3ImDkyyI3g6n4EGtk4fFgAFxQJE7lllGYgsFPefIDlNiAT6+6sawY+0jA1OdfzFaNwvHD6qMkamQRSFhl1QzR4iYHPclrrHGAD7Pneo5XrZfFG0aBkw17CXU+e9MxLAc2SbUG1r9aE8YhTDRQwzXUlFW8VnYlVsTe1xe1ReUcOkuKVkX+5Ut9opDOdtfdR4OOhXO6LO2AQd0zAHfcdaDc3t9UwjzLLmbRUGm7H9NT7qgc58XEmJjEwdo3FgYhkUW3FyL3GvWq9zpio50hiWQgpqb69LLfxNr0vDxrtBlN9B/kEZsMMQ4LSuzHP5Alb+bG2/ha1uq5QwTQTGchS+mV7XKk3z2G1tba66HxqTyhhzHgokOtgTe34mZv1rvFYbLIGjTUyWfvlNOpyjRj612RxlTM9q0GeYYF4hFIpsuIWJuzYaCQL38jD3GxG1zWW8J4d2j2eRIgBdsx71vIda0vg85E+pC5bZW6X10J6eF/OqVx7laKGeeNbrlJKX3ykZkv46ED3VMmk9CokLxPBQH7FO0cf8AUYXN/K+g91G+F8Td4xIDuTYdNDaqlBy1dVcym7a7C21GMJOmEhVJZVDAkrcgaXvtVcc70DRYk4kbEgmxGqnw661m/MWCEOIdF9m919DqPhe3uo5xPmPDumTDvmmkYKE6Aki7A+Fr0N4/hZpnSVELgxrcgg2IuLb+nxquRpolIESeytcjausTDIoUNG4sNbqR1pjtRl99YjPKVN9qK9pATuB8PZJozDi0CdoArsWS+t2UEAnvAWt1uKt/FJcSkbSyvDIkLKrZnYpJnv2bgW0tcD1FUVuFzAMI4pwhbMrBGJIvdTmA8LEEVasVxyeeGLDfV3gSGMDOUdczKN2IG50OvW5oyjXZpjJdJkrhOIeaEIuLghGVwy5nOck2tlNraeFZxxDD9k2QPcAEErpfXX1rSOBcHV0aSecogjvE0b5jIVYAhVtdiLjS17HSqpzVhZMVjZGCMqMbI3ZsUsO6pJUaXtvSyT9jxl9DjlCaFplE6XiiVmDZC5LaFAQNbEitK45w7sSJcVi5oFlOZYkVSqDQ5Qct+tUfk8thBixJh3kZoyqWvlJva6tsd7i2ulFOGcBkxSRtjZ8aVGwPeyDSwJKtlawvYjoL2pOSQsZPsPzNhIBDLBMzuJBcyEksuViq28SwGg13qp818JxWNl7dMK7u1gNslhc7Gx60S5j4QuESJ5okkiZtFTPHKGA7hYiRldTm9oam+grnljipMeMULNDHbtHcZAYwD7IdzZe7uuVjfTzpcbyt7KqK/iOeXsRjMJBPHiOH5UK5lkRVQKw6uQcuW3U2talPilmTcyKbDuOBYkbAqLsAVOp/WqhNxGF88Rlk7J3Us8l3lVQ1zZQQp0APSiXIUaieWXUYdR7LEd47oCRe2lyT0F/Kk4rtLZNRT0EIsdPCoWKCQhb5vaygA3BFzYm2vjRHsVxsEkszPHBEU7RrjNmOgXe4B6CxG1PpjsJimUTwNHGrE5u1LA3JB7q7i1q7+kLiEGG7GDDQJ2Mo7SQFSqS5e7Hf8Vr38tKpL7IfklWN6DYwuEbsUXEYqF5gOzjnZZFe+iZ8veAO171SuIczyxYpof2dhhJCzR5ViZgSNL20uNLg+dB14zGJY5lwyK0ZUqAz27puvXSxHSrdzzzhcBxBCs00Sq0guXAYZjY6WIsLHzp4oFyySpMPtIiJHLi5o4wR7JVYQjEXsOpPrUbiOP4ZLG0ZxcdmG/arf86zDjOPklijz7A93W52rrhWHiRQ8neJ2ujFV6+FmasZxink1bNOOKnKtfiwXxSALK6owdQSAykEEAlVIPmoB99PrKfqpjuNZM2XML37ova/gvyFGIuKQk27Mr5mNbfK5ofxfiKv3IlAQbtYAsfhoPKhTk3VGk+KEU5Kaf2IXC4DnLEHuRtJvbQDoff8qtHIfGZhJGjzBY86qVFgxAXLckLcgA5dT194AcEcCUk6/Zso9oi5BOy6nYnptuN6u3K3Kc8WafDpnZ0YRAuGiZT3SS2TYBvEnp51U45qvZlxyxafrsZ4ripom7fEYeYMxvHIkiOhFit9CQtyL1J4HicRijK2DR0k0+0eZQVva+liDexO3Wo3HOJoMbkxOGUghEl7LuAgA30UkMRmBBPhTeCxpwGIlaEqiObRro5cDUFipIW4vrbpXRODjoy45q7YO45iMTHI8WIkaQxtexbMpLD0Hjelw9kxM6ZIBGVsrgMWzGx73e2uelGBjcRisRIUTClpmFlkXtLaZQASPnagnBZXw3EUikCxlGYSjQDuhjqfXb1FYyjkqKyp6NQwumZRspVR7v6FR3Gvnf8Aq1UDmDm2eDFPHh37id1gwDAybyHQC1m7v/kqA/P2MtYdkD45Ln5m3yrVSS0QzSOMMYcTg42cjtYpWCgfeJBFz1Nohbw18TQ/6QUnP1adAzZoij6adxjlN/RiNfAUL4Li5MTHBPPKWMTk5mtYDW9hso8h4VbcfzEGjiGFkWTICHsQy66gEEXDbnfqPcm9AZ/HzC6hQ8fs0B5vx4mkRwDbLbX1rTf2rBJ3cRhYyfFe438/jVS+kHhmFWFJcOzBs9ijL0IOtxpuB8agCmcJkYTIV9oHT1savPAI3SMqxGbS9j46/rVR5b4VLiJikSlmVSxA3tt+ZFEsThcRESDnU+Go+VMaLTJjXEoAY+yTa9+vnTePnshYqjEX9pQetVhOLSKbnU2tqKen49nQqy2v1FABhFQgHsotR+A/xpVFi4tDYa9PClQAPi5sYtneLDlrk5wJFa5Ft7nYbDYdBoKL4HnCLLkbDoVVLC0jk6aqt5AO7m1JLeNV/nzhbQYuRstoZmaSFgLIyk3sPArexHQ+RFxHDQC4BFwWFx5dax8UX2jbz8ibSZoGA5qTDqFODKu12LNKkakMbhlXKbAgDbTQb2priPNyzMAEsApAVcQ41a3eusAuR01I1OlA+LypNjbAExoqoAd7Ithf3mh2LwUkUzWjkyq/dIViLX7tjbXS1X+6Rx8te6D975P5aei6ycYlEUhVQoPdBWdprFADl1UWNtzub60LwnEJobEMb6Mw2DHex8rXFQeHMfquJEgAHaiRbtle5ujAIR3ulxfT3VBxWMGXLmN/M+7pXPi06oryOW2y0858fbGxQxpG4khU5kjcsoDlMpsv3roxy/d3rrg8k7o/D8bG8kLEd4KSYyWOU93TKSbix0J+FM4fiiO6ZSqlrmy5xtlJ9oG4HSiknHGjVVXEPZlJcx51FiuUgqdC50udrjqNTvFUqMW72EcfF9Uw00TWxEMoum143sQrm2t7WG5F1tbWo/MHBI8PhY5sO0gSWQLJFL/eRuFLFcwADLpobDQqdb6Q+PFwEn7NlbM2Zr5kNrZAT+MWcG4FxawtTvGODYsyNEkMzd5WbMPvFSRa9rd0geGnlTXYdJkHhSTyyCKAM7tso8tT8qtH0o8SaUYQMACkCqV8GBKv8x8qY+j7hk0HEYjiIpIxlcgkWDXU2sRow32vUDnOMMkktsrLO6FSDmtfNmzbEZmK237tVYY/GytiWik6TYpo1SNnNlXQeVhrsNOpqv56v/K2OnjwySRWEX93IQVuSCSuh1OhNaccHySUV7M20lbAPFcOBArk98ysuXplUWuP/MCL1yeZcRkSMuMqZct1H3RlXU+ArjizqDLFYF1nuHA+7ZhlF9QASNKXLnGDhJxOqByARlJsNdNwDUtU6Y10eLzBN0df3V/r/mosuKJFssY/0xop+IF/+BWi86cROI4TFOVCl5FOUG4Htjf3VmdJ6GHOTMB2+Lihvl7RspNr2ukmtWhZsCuaD9pSRlEytngGViBqoyTXW7fdYdPKq3ySk31mNsMgeWMlwh0BAGQXP3ReS1/E0e4pwm8rtiOH4iN2Jdjh5Y5xdiSe40RG99A4tURnU+/1LlH4p/8AAXjOHcJaCJlxcoxDXMoyrkBJFr3e6qNdVzkgbA6VJj4TwjKFPE3zAWDdicg3Nst8xFzv8qFycDmkVpcMc8IbLdssLqbXsy5yoNr7Mdj4EULx2CxMX94rgeIbOvjupIrRyszosOAxMUTIYsRCrq+YSguGuNic4tbY2/nUXjOKMPEZHxKl2dftMwsSXF85UAaey1gKicrxy/WsOcjnMSVvezABlOvhfSmeacKkWIVQSUMcRuRY2Ki9tToNQPSpbT0NWnYNxuILyO9rZmLW1Nrm+539aaGu1Jjc2XUk2A9dqncZ4f8AVpuyvchUa/nlBb3Zr0xFq5YwLnBSWY2kbRRuACA9v9Vj5VaoUAVQI1SygEKABfqTbcnqahcEYDDxea3/AHiWH51LEw8RUtbsq9UdyRhhYgGqzzvhrYYlb2DLp8v1qxmdfxD4ignNOMQwPECCzDprbX+VNCAXJMjJiHeMsD2SklTY62v/AMVfl5lkYZJezlHhKov8dDVa5R4bHDD23aIWkOUrmGZQviPPejE00TCzFD7xQwQ7iIMBL/eYdoyesT5h8GofNyXhZP7jGID+GUFD8djXLqg9iZfRiCPje9NyYxFHedPcbigBh/o4xd+6EYdCHWx+dKu/rkX4k+NKgA5LzRgDIImwz6tZkcKUN9NY8pDb/lVhx/0e8PZswhEZHVGZP9oOX5U5wbmPCYmDDy4zDx555zHEVSzXDEJqu1svteVSOJTwDK0ryxRFnTtO0BAZZTGAc12syBn0sO4fEVhyxlKnF0zfhnCNqW0Z9heUmfGPJg0MsYuriUFDGdD3rgXuDoQPukUI56jnwmKF2UZwrqI5cyjLYZSo2sRex8RRPmThfZtKMPNJlRVeZWcZo824bVVezXBzEEXHQ3FL41KrZWV2ZbDKXQRttc90E6A9QSPPWuiHJLxKDMuSMc3KPQzieLyMCo0B31Yk9dSxPU3qAig3ubaaaX93lXNeUiAlwvEqikNezAghTY9bD4n5U7AqdwlwGUFgN72ud/usQO7cb2vYWNCVcj8uh/OpDThzdrLoB3VFtAF28wLk+JNIa7C+BxUbiJGVV+0DTMS5ditzrc2IbbbQk+NWXnRppHTGQoXXFRgPbXLJEOzfppdcjafiNVfB4NSqt7S27zrZbWLaa+VhfyrRODRdrwk9qiOsb9pExAaxB7KQMp27puL6G3kQJbaaZoktoz/gvMGIUhUlsqbK8ioAdu6XtlPpbrRQ46aKJUxCi8rNIcwDKwzXFjqGF9bjxFLHYKUDNG6n0VQf3SCPDQVL5InXEnE4TGv9mYTIjBR9m62UOoA0aza29q1j52ZtnOG5igQssuHlIsuVoQljcXOjJ6jQnanMLzSHLRpE0cftDOy+moyqM1yNr6A+tDMHwnJhzPiGCgkZYtc7b97TQLoRvrcVCfimGXfDuPNZjf1sykfGhKndibDHOfDYlw8OJQr2k0jhwCDtcAn90/vUA5f4Q2KnWBWClgTcgkd0X6elS+McyriMNDhlVwIGZgWIN8177De5oIt76b0/YGv47lOR+HRYLtFDRkEvY5TYsdt/vVlPFcEYJpISQxjYqSNAbdaZxCsjMjHvKSpF72INiLg2OtN0N2Bsn0GYSMRS4gIGlTMNEu5XwzX1FxtbcDyqDzlzfJM86/V4HWFrJdWz7DNZgbDUm48tbaXifRrgAMLLipXeOKIm7o7oxI1sMrDXYCgnMfMWDd2k+rO7u5L9ob30AvmUqQdNR49elR4l5M39KKz+OJxyrhZ53mijxCwzSMzhWJKuSCSAFub2LeYFzY1C4nFi4HYYtLhDqM+ViDoGBvfKdxp+tDYuKQLMs6pOrqbgrIBttqQTa2m+1WPGc8YaYgvgVuq5Ba4NvNy5N99d9a0pEp/Ul4bjKxxLEvD8QJCCVLYjb/NcpcAHXoPOoh4sqgNmjFlVcnaGVhprZrZct+gbS4HnXvH+PRTQd4MskgjEcSn7NQbmR2a3fI7qgEdb1F4dPCoHcUnxKgn+PjUJJDbJf9pul6tvJqQY8tBMquGRtwLggXBB6EdCKp+O5gSOwWJGO+qiwBsffe21SuA8xZJBNEkUcgFu4uUa76DQnztTAMcqPBhGVHEcmbS8gDBRsoF7helzVu5s5UhxUDSRxiKVFzKyABWAGY3y6HS9qy7H8Ojcd0sD4anfXf1q6ckcbliweIjllDL2ZWMG4YX7p12sASfHTr0lvZWqKaOXf/E+X866HLY/xPl/OrAVArzNVWTQA/s2v+IfhXn9nk/G3wFHwa5cUWFAH9gp+Jvl/CuP2PF+J/h//NHWpmR7dCfSiwoFfsWL/wAT4H/20qI9ufwN8v40qAGeBc2wxpDH2JbsdUvkuG6kE7XJPxohNzLBOvZS53C5TFHYjvhWzyHIb9531BJGVT1NZ9BKbWCgedjeukaUDS6jrbu39SNT7zWbv0Uq9mlYfmnCYdsQ7nNLMxYrux6BdPZG5PhmNthVNl4djZlZQM0NiwLEAWHe07xJ+FVloLDNe9j08elWfhPHZrP2IIAXRTqoJGoA3GxsB76XFx4Ntu7L5eXNJJUkVICvBTjoVbKd10NN2rUxPafwmGzmmBRPg6nMLDc0APTcKhQoWdtdSABpoCNfO/yooeNBIpIos1nULbYABgx06+zb31G5jSxie1s6a+osb+XddNPKg4apxvsrJroLwcSOgJ0/r4a1Kw1lxc1mAVoRcjpnMZO/+qq+GqYmPKmSYAFsoBDC6kB4xYg9LACqJDnGeKxzBYWAQxexmyxsbjq/fF9TobW2oCmAvcrhzJ5iTtvj2O1ROITguWRAEbUIbMFuASoIAIANwLW0ApjJEw0zI3h7aH/1L/uoGOvoSphEZHk4b/exrwG2tOuxygFy1vFibeGh269K8w05Rgw3APUjcFd1IOx8flQIP4/mXEdpIwjjVc59vDQgrckgOSps1t7noaB8QLmVzILOWOYWAAN9dBoNfDSrZ2BmjeReEyNHK3ak/WGBYjNZlXLmI77eyLG9VTiWJ7WV5MuXOxOW98vlewvamwC3A8RZAkkswh7xaKNhlZr90lXunTU5b6Vzx3jMvaG9mW5I7aOMybkXZlVbtYV7wTByPHeKRlbOAFAGoNwTmP4Tl0/zV1x6CazFpZHyHvu1ktfRQDm7199akpNroD4WUG4MEYUkXP2oHr/eWFeskO5Rl/0S5gfS8Z+bVDw6XDbsfLXxO/x8dqcTEbA6Dp1PxP6Wpkj+PmQ9mFDCw+8QTbUdOt687SoitfW2w0/et+tOX0Nt7fyoGdYqbMxPTp6DQfKm4ZipuDXDV5QIL4LiTFgMxA6mizYsMDEp7htdSdD76qiNaieGcEXXW3gdfhvSGi+8KmHYZD91lCX3Fw5K+ndBH86dYgVTMJxIieGHNZTJHmY6WubEnwtmN/StPPAof+9w/wAaEMA3pXFHP2FAP/noPif0U143C8Ep1xjHzVUt7ryA/IUAAjTbEVYPqeA/7mb92P8A91cHC8O/x5/3V/nQBX7jypUcHD8B/wB2w8sr/wD66VAFWw+JjhUI+ChkJ+9YrIeu62J+NeGfDyRsUw0CXzW1LuLdbM5tdiALjW99gSJK/RdinN5sWovvZS3yuBRLB/RNALdriJX8QoVB881TaCmQcOuCTIZMYtk/6bRAC43HZpmup6G+u+1jVclaKItHhMQrRyDvNLGy21v5kEZR3l3GnU1p+E+jfh6/9Fm82kf8gQKe4vwTheBgbESYVMqW01ZmJ0VRdtyf49KM0GJhXEU+2ZVdX1AzKCqkkDYNqNfGo80ZVipFiNwd6IYnHGbENiQIoiGDqmoUZbZQBrc90eutDZHJYknUm59Tqask8o1wDFBWsQDQWpnDWbMAu5/rpQAb5rnB7JR90N+SJ8Ps6r+ainM8hLrf7qqpPQm1/jre3hQ4Ya6K4YC5IYNpYix08rMN+t6BnAenlcGJlAu1ib36ZhcW8dL389jpUnh3CBKsrCU5owCEWN5C5OgF0vl16kfwo9gOAKvdMb3LAdpIyYePbM984aQAeyNN97Hu0UIrLSuTfskvYC4BOgAA0zW2A6VyLjUAg+UKX/OrzhcHFnMrHCwrGGHZktimci+uUSWa4tbbfVba1Xkwzk3M6oT90CMH5kU6AESSu3ttIR/mFh+Z1ppxcEUT4pAyqM0zPrsb2G+ugy39/WhbbUMEHsXHhZnOIbGmMscxRonaVDvlVgcpA2U3FgBtQriWI7SWSSxGdi1jvqb6+Z3PmTV5l7WKHMFTDyWuPqkCz5vHMclkP/3D6VQ8XM7uzSkl2N2LaEnz0FDGO4PBNJfLA8g01Q2I30uQR46WvtqOs2LgeOUACHFC4uLE26jp6GpfLSqV1nmjIY6REqbECxLBGG4O9raeNWyMFB3MbiR5tLh2HwcA0gop8XCOIAg9nNfoSEv8WOlMYnguMGZ3w4IAuSVUk/uG5OvStF4fxfFIRfEpIl+9ngil0tuMki7XB0IOm9HcLjJ41hv9SxGeR1uGlw5C2Zoy1w+QGwF2UAEgXNwSAYEGJBNtDoLeRUka69RUjCS2Elxe6W99xb9a1TnKXDz4YyYjAPE4ygzDs2VW9khngOZdTYZ1YHTxBrNsZw4JneMs0F7I8gCF/Ahb3/lSCwWxrwV1mzHbSuHGtMQgaL4OQZQevw/Sg96eje1AInSSFsTGbWKlLkm46EdB0I99aHItVTgvBBMBM7WAb2RswUADX1Hyq1MfOkUN5a5Irpx602aAOWqHPipNliJ8CWUD86mW9a5IoAG/WcR/gj94fxpUQuKVAjWVsOlOowpUqyLHbgAk6WFzVI+kHhsmPw+SKy9nIHXMdXYBltpoujEjp4mlSpoGYmgyMysoJ2sdbGoqtSpVqZs7D1JwOKZHDKbHxG9KlQAY48qns5TbvKVJ13Gvkb2I1vQdcWiiwS/+3x9fGlSoGL9quBlUkLe+W7Wv42va/nauUxEj7N8h/DzpUqBHDYqX8bfH+FJMfIP+pJ7nIpUqB2PGVyO8XtvYtmFO4HCNKxVbXCltetth7yQPfSpVM3SbBHGIi7KRlVtVNsw7p8/Ma/lTUkhYlmJJO5JJJ9Sd6VKnHoZxJiXWwV2A3sGIHypLxKYbTSD0dh+tKlTEe/tKb/Fk97k/nXacTm/GT62b8waVKgQ9iOIO6KH1sdBZR0/ygf0ahzTvJbOxNhYXN7DwHhSpUAdxWG5puY6j0pUqBHFIeNKlQM0Xl9mGGj7pOl+nUkjr4GppZvw/Ej9KVKkUNsx8B8T/AApslvED3E/rSpUActm8R8P51wxb8R+X8KVKgBW82+I/hSpUqAP/2Q==\"\n",
        "    ,\"car_focus\": \"การพัฒนาเพื่อทวงคืนตำแหน่งแชมป์โลกทีมผู้สร้าง\",\n",
        "    \"standings\": {\n",
        "        \"Max Verstappen\": {\"pos\": 3, \"pts\": 230, \"nat\": \"NED\"},\n",
        "        \"Liam Lawson\": {\"pos\": 15, \"pts\": 20, \"nat\": \"NZL\"}\n",
        "    }\n",
        "}\n",
        "\n"
      ]
    },
    {
      "cell_type": "code",
      "execution_count": 128,
      "metadata": {
        "id": "htzsIvR634Ik"
      },
      "outputs": [],
      "source": [
        "# ===== List → string สวย ๆ (รองรับไทย/อังกฤษ) =====\n",
        "def _stringify(val, thai=False):\n",
        "    if isinstance(val, (list, tuple)):\n",
        "        if not val: return \"\"\n",
        "        if len(val)==1: return str(val[0])\n",
        "        conj = \" และ \" if thai else \" and \"\n",
        "        return \", \".join(map(str, val[:-1])) + conj + str(val[-1])\n",
        "    return str(val)\n",
        "\n",
        "def fill_response(template: str, facts=FACTS):\n",
        "    th = bool(re.search(r'[\\u0E00-\\u0E7F]', template))\n",
        "    def repl(m):\n",
        "        key = m.group(1)\n",
        "        try:\n",
        "            v = eval(key, {}, facts)  # รองรับ {drivers[0]} / facts[\"standings\"][\"George Russell\"][\"pts\"]\n",
        "        except Exception:\n",
        "            v = facts.get(key, m.group(0))\n",
        "        return _stringify(v, th)\n",
        "    return re.sub(r\"\\{([^\\}]+)\\}\", repl, template)"
      ]
    },
    {
      "cell_type": "code",
      "execution_count": 141,
      "metadata": {
        "id": "n0AsDZh_4-co"
      },
      "outputs": [],
      "source": [
        "INTENT_TEMPLATES = {\n",
        "    \"greeting\": {\n",
        "        \"questions\": [\n",
        "            \"สวัสดี\",\"หวัดดี\",\"hi\",\"hello\",\"hey\",\"ทักทายหน่อย\",\"เริ่มกันเลย\",\"ไง\",\"how are you\",\"greetings\"\n",
        "        ],\n",
        "        \"responses\": [\n",
        "            \"สวัสดีค่ะ! คุณสามารถถามเรื่อง {team_short} ในฤดูกาล {year} ได้เลยค่ะ 🏎❤️🐂\"\n",
        "        ]\n",
        "    },\n",
        "    \"greeting_e\": {\n",
        "        \"questions\": [\n",
        "            \"hi\",\"hello\",\"hey\",\"how are you\",\"greetings\"\n",
        "        ],\n",
        "        \"responses\": [\n",
        "            \"Hello! You can ask about {team_short} in the {year} season 🏎❤️🐂\"\n",
        "        ]\n",
        "    },\n",
        "    \"goodbye\": {\n",
        "        \"questions\": [\n",
        "            \"ลาแล้ว\",\"ไปก่อนนะ\",\"bye\",\"goodbye\",\"see you\",\"ไว้เจอกัน\",\"แค่นี้แหละ\",\"จบการสนทนา\",\"ไปล่ะ\"\n",
        "        ],\n",
        "        \"responses\": [\n",
        "            \"ไว้คุยกันใหม่ค่ะ 🏎️💨\"\n",
        "        ]\n",
        "    },\n",
        "    \"goodbye_e\": {\n",
        "        \"questions\": [\n",
        "            \"bye\",\"goodbye\",\"see you\"\n",
        "        ],\n",
        "        \"responses\": [\n",
        "            \"Talk to you later 🏎️💨\"\n",
        "        ]\n",
        "    },\n",
        "    \"capabilities\": {\n",
        "        \"questions\": [\n",
        "            \"บอทนี้ทำอะไรได้บ้าง\",\"ช่วยเรื่อง {team_short} {year} ได้ไหม\",\"ฉันถามอะไรได้บ้าง\",\"บอทนี้มีข้อมูลอะไร\",\"แนะนำหน่อย\",\"ถามไรดี\"\n",
        "        ],\n",
        "        \"responses\": [\n",
        "            \"ฉันตอบคำถามเกี่ยวกับ {team_short} {year}: นักขับ รถ ทีมงาน ฐานทีม คะแนน และบริบทฤดูกาล (อัปเดตถึง {asof_date}) \"\n",
        "        ]\n",
        "    },\n",
        "    \"capabilities_e\": {\n",
        "        \"questions\": [\n",
        "            \"what can you do\",\"what can I ask\"\n",
        "        ],\n",
        "        \"responses\": [\n",
        "            \"I can answer questions about {team_short} {year}: drivers, cars, team, base, points, and season context (updated until {asof_date})\"\n",
        "        ]\n",
        "    },\n",
        "    \"team_overview\": {\n",
        "        \"questions\": [\n",
        "            \"สรุปทีม {team_short} {year} ให้หน่อย\",\"ภาพรวม {team_short} {year}\",\n",
        "            \"ข้อมูลโดยรวมของทีม\", \"ภาพรวมของทีม Red Bull ปี 2025\",\"ทีมเป็นไง\",\"ขอรายละเอียดทีม\"\n",
        "        ],\n",
        "        \"responses\": [\n",
        "            \"{team_full} {year} ใช้รถ {car_name}; นักขับคือ {drivers[0]} และ {drivers[1]}; หัวหน้าทีม {team_principal}; ผอ.เทคนิค {technical_director}; ฐานทีม {base_chassis} / {base_engine}. \"\n",
        "        ]\n",
        "    },\n",
        "    \"team_overview_e\": {\n",
        "        \"questions\": [\n",
        "            \"Team overview of {team_short} {year}\", \"Team overview\",\"overview {team_short} {year}\", \"overview\"\n",
        "        ],\n",
        "        \"responses\": [\n",
        "            \"{team_full} {year} uses car {car_name}; drivers are {drivers[0]} and {drivers[1]}; Team Principal {team_principal}; Technical Director {technical_director}; base {base_chassis} / {base_engine}.\"\n",
        "        ]\n",
        "    },\n",
        "    \"drivers_2025\": {\n",
        "        \"questions\": [\n",
        "            \"นักขับ {team_short} {year} มีใครบ้าง\",\"{team_short} {year} drivers\",\"ไลน์อัพ {team_short} {year}\",\n",
        "            \"คนขับของ Red Bull ปีนี้\",\"ใครเป็นนักขับให้ Red Bull ปี {year}\",\"คนขับชื่อไร\",\"นักแข่งชื่อไร\",\"ใครเป็นคนขับ\",\"คนแข่งปีนี้\",\n",
        "        ],\n",
        "        \"responses\": [\n",
        "            \"นักขับปี {year} ของ {team_short} คือ {drivers[0]} และ {drivers[1]}.\"\n",
        "        ]\n",
        "    },\n",
        "    \"drivers_2025_e\": {\n",
        "        \"questions\": [\n",
        "            \"{team_short} {year} drivers\",\n",
        "            \"Who are the drivers of {team_short} {year}?\",\"Drivers lineup of {team_short} {year}\"\n",
        "        ],\n",
        "        \"responses\": [\n",
        "            \"The {year} drivers of {team_short} are {drivers[0]} and {drivers[1]}.\"\n",
        "        ]\n",
        "    },\n",
        "    \"drivers_standings_2025\": {\n",
        "        \"questions\": [\n",
        "            \"อันดับนักขับของ {team_short} ปี {year} ตอนนี้\",\"คะแนนของ Max Verstappen ปี {year} เท่าไหร่\",\n",
        "            \"คะแนนของ Liam Lawson ปี {year} เท่าไหร่\",\"Verstappen อยู่อันดับที่เท่าไหร่ ปี {year}\",\"Lawson อยู่อันดับที่เท่าไหร่ ปี {year}\",\n",
        "            \"สรุป standings นักขับ {team_short} {year}\",\"อันดับของ Verstappen และ Lawson ตอนนี้\",\n",
        "        ],\n",
        "        \"responses\": [\n",
        "            \"อัปเดตถึง {asof_event} ({asof_date}) — Max Verstappen อันดับ P{standings['Max Verstappen']['pos']} มี {standings['Max Verstappen']['pts']} คะแนน; Liam Lawson อันดับ P{standings['Liam Lawson']['pos']} มี {standings['Liam Lawson']['pts']} คะแนน. \"\n",
        "        ]\n",
        "    },\n",
        "    \"drivers_standings_2025_e\": {\n",
        "        \"questions\": [\n",
        "            \"How many points does Max Verstappen have?\",\"Driver standings of {team_short} {year}\",\"point max\",\"max point\" ,\"liam point\"\n",
        "        ],\n",
        "        \"responses\": [\n",
        "            \"Update as of {asof_event} ({asof_date}) — Max Verstappen is P{standings['Max Verstappen']['pos']} with {standings['Max Verstappen']['pts']} points; Liam Lawson is P{standings['Liam Lawson']['pos']} with {standings['Liam Lawson']['pts']} points.\"\n",
        "        ]\n",
        "    },\n",
        "    \"team_principal\": {\n",
        "        \"questions\": [\n",
        "            \"หัวหน้าทีม {team_short} คือใคร\",\"team principal {team_short}\",\n",
        "            \"ใครเป็นหัวหน้า Red Bull\",\"ใครคุมทีม Red Bull\",\"Who is the team principal of {team_short}?\"\n",
        "        ],\n",
        "        \"responses\": [\n",
        "            \"หัวหน้าทีม (Team Principal/CEO) คือ {team_principal}. / The Team Principal/CEO is {team_principal}.\"\n",
        "        ]\n",
        "    },\n",
        "    \"team_principal_e\": {\n",
        "        \"questions\": [\n",
        "            \"team principal {team_short}\",\n",
        "            \"Who is the team principal of {team_short}?\"\n",
        "        ],\n",
        "        \"responses\": [\n",
        "            \"The Team Principal/CEO is {team_principal}.\"\n",
        "        ]\n",
        "    },\n",
        "    \"technical_director\": {\n",
        "        \"questions\": [\n",
        "            \"ผู้อำนวยการฝ่ายเทคนิค {team_short} คือใคร\",\n",
        "            \"ใครออกแบบรถ Red Bull\",\"ใครเป็นผู้อำนวยการด้านเทคนิค\"\n",
        "        ],\n",
        "        \"responses\": [\n",
        "            \"ผู้อำนวยการฝ่ายเทคนิคคือ {technical_director}.\"\n",
        "        ]\n",
        "    },\n",
        "    \"technical_director_e\": {\n",
        "        \"questions\": [\n",
        "            \"technical director {team_short}\",\n",
        "            \"Who is the Technical Director of {team_short}?\"\n",
        "        ],\n",
        "        \"responses\": [\n",
        "            \"The Technical Director is {technical_director}.\"\n",
        "        ]\n",
        "    },\n",
        "    \"bases\": {\n",
        "        \"questions\": [\n",
        "            \"ฐานทีม {team_short} อยู่ที่ไหน\",\"โรงงาน {team_short} อยู่ไหน\",\n",
        "            \"สำนักงานใหญ่ Red Bull F1\",\"Red Bull สร้างรถที่ไหน\"\n",
        "        ],\n",
        "        \"responses\": [\n",
        "            \"ขอโทษครับ/ค่ะ บอทนี้ตอบเฉพาะ ทีม Red Bull ฤดูกาล 2025 เท่านั้น\"\n",
        "        ]\n",
        "    },\n",
        "    \"bases_e\": {\n",
        "        \"questions\": [\n",
        "            \"where is {team_short} based\",\n",
        "            \"Where is {team_short} headquarters?\"\n",
        "        ],\n",
        "        \"responses\": [\n",
        "            \"Chassis: {base_chassis}; Engine: {base_engine}.\"\n",
        "        ]\n",
        "    },\n",
        "    \"car_name\": {\n",
        "        \"questions\": [\n",
        "            \"รถปี {year} ของ {team_short} ชื่ออะไร\",\"ชื่อรถ {team_short} {year}\",\n",
        "            \"รถ F1 ของ Red Bull ปีนี้ชื่ออะไร\",\"What is the name of {team_short} car {year}?\",\"ชื่อรถ\",\"รถชื่ออะไร\"\n",
        "        ],\n",
        "        \"responses\": [\n",
        "            \"{car_name}. / {car_name}.\"\n",
        "        ]\n",
        "    },\n",
        "    \"car_name_e\": {\n",
        "        \"questions\": [\n",
        "            \"What is the name of {team_short} car {year}?\",\"car name\",\"what is car name?\"\n",
        "        ],\n",
        "        \"responses\": [\n",
        "            \"{car_name}. / {car_name}.\"\n",
        "        ]\n",
        "    },\n",
        "    \"max\": {\n",
        "        \"questions\": [\n",
        "            \"max max\",\"tututu\",\"maxmax\",\"supermax\",\n",
        "            \"ขอเพลงเชียร์max\"\n",
        "        ],\n",
        "        \"responses\": [\n",
        "            \"max max super max มาเชียร์กัน {max_song} 🏁 🏎️ 💨\"\n",
        "        ]\n",
        "    },\n",
        "    \"max_e\": {\n",
        "        \"questions\": [\n",
        "            \"maxsong\",\"Cheer song for Max\",\"max cheer\"\n",
        "        ],\n",
        "        \"responses\": [\n",
        "            \"max max super max let's cheer {max_song} 🏁 🏎️ 💨 {max_picture}\"\n",
        "        ]\n",
        "    },\n",
        "    \"win_score\": {\n",
        "        \"questions\": [\n",
        "            \"ข้อมูลชนะ\",\"maxชนะสนามไหนบ้าง\",\"maxชนะที่ไหน\",\"สนามที่maxชนะ\",\"รวมสนามที่ชนะ\"\n",
        "        ],\n",
        "        \"responses\": [\n",
        "            \"Max Verstappen คว้าชัยชนะมาแล้วหลายสนาม เช่น Monaco GP, Italian GP, Abu Dhabi GP และอีกมากมาย 🏆 \",\n",
        "            \"Verstappen ชนะในหลายสนามทั่วโลก ทั้ง Monaco, Silverstone, Suzuka, Austin และสนามอื่นๆ อีกเพียบ 🌍 \",\n",
        "            \"เขาเก็บชัยชนะรวมได้มากกว่า 50 สนามใน F1 โดยมีทั้งยุโรป เอเชีย และอเมริกา 🏎️🔥 \",\n",
        "            \"แต่ในปีนี้(2025)เขาชนะไปทั้งหมด 3 สนาม โดยล่าสุดคือชัยชนะที่สนามโมนซา (Monza) ในรายการ Italian Grand Prix เมื่อวันที่ 7 กันยายน 2025 ซึ่งเขาได้ทำลายสถิติการแข่งขัน F1 ที่เร็วที่สุดในประวัติศาสตร์ ด้วยเวลา 1 ชั่วโมง 13 นาที 24.325 วินาที และความเร็วเฉลี่ย 250.706 กม./ชม. \"\n",
        "        ]\n",
        "    },\n",
        "    \"win_score_e\": {\n",
        "        \"questions\": [\n",
        "            \"Which races did Max win?\",\"Max Verstappen victories\",\"max win\", \"history max win\"\n",
        "        ],\n",
        "        \"responses\": [\n",
        "            \"Max Verstappen has won multiple races including Monaco GP, Italian GP, Abu Dhabi GP and more 🏆\",\n",
        "            \"Verstappen has won races all over the world: Monaco, Silverstone, Suzuka, Austin and many more 🌍\",\n",
        "            \"He has collected over 50 F1 victories worldwide including Europe, Asia, and America 🏎️🔥\",\n",
        "            \"This year (2025) he won 3 races, latest at Monza in Italian GP on 7 September 2025, setting the fastest F1 race record with 1h 13m 24.325s at average speed 250.706 km/h.\"\n",
        "        ]\n",
        "    },\n",
        "    \"who_win\": {\n",
        "        \"questions\": [\n",
        "            \"ทีมเราชนะล่าสุดตอนไหน\",\"ทีมเราชนะกี่สนาม\",\"กี่สนามเราชนะ\",\"ผลชนะปีนี้\"\n",
        "        ],\n",
        "        \"responses\": [\n",
        "            \"ในปีนี้เราชนะไปทั้งหมด 3 สนาม โดย Max Verstappen ล่าสุดคือชัยชนะที่สนามโมนซา (Monza) ในรายการ Italian Grand Prix 7 กันยายน 2025 ซึ่งเขาได้ทำลายสถิติการแข่งขัน F1 ที่เร็วที่สุดในประวัติศาสตร์ ด้วยเวลา 1 ชั่วโมง 13 นาที 24.325 วินาที และความเร็วเฉลี่ย 250.706 กม./ชม. \"\n",
        "        ]\n",
        "    },\n",
        "    \"who_win_e\": {\n",
        "        \"questions\": [\n",
        "            \"When did our team win last?\",\"How many races did our team win?\",\"last win\"\n",
        "        ],\n",
        "        \"responses\": [\n",
        "            \"This year we won 3 races, Max Verstappen latest at Monza, Italian GP on 7 September 2025, setting the fastest F1 race record 1h13m24.325s, average speed 250.706 km/h.\"\n",
        "        ]\n",
        "    },\n",
        "    \"car_focus_2025\": {\n",
        "        \"questions\": [\n",
        "            \"ปีนี้ทีมพัฒนาอะไรเด่น\",\"โฟกัสของ {car_name} คืออะไร\",\"แก้อะไรจาก RB20 เป็น RB21\",\"Red Bull RB21 มีจุดเด่นอะไร\",\"What is the focus of {car_name}?\"\n",
        "        ],\n",
        "        \"responses\": [\n",
        "            \"{car_name} เน้น {car_focus}. / {car_name} focuses on {car_focus}.\"\n",
        "        ]\n",
        "    },\n",
        "    \"constructors_standings_asof\": {\n",
        "        \"questions\": [\n",
        "            \"อันดับคอนสตรักเตอร์ของ {team_short} ตอนนี้\",\"คะแนนทีม {team_short} {year}\",\"อันดับคะแนนทีม Red Bull\",\"Red Bull ได้กี่คะแนนรวม\",\"Current constructors standings of {team_short}?\",\"How many points does {team_short} have?\"\n",
        "        ],\n",
        "        \"responses\": [\n",
        "            \"อัปเดตถึง {asof_event} ({asof_date}) {team_short} อยู่อันดับ 3 มี {constructors_points_asof} คะแนน. / Update as of {asof_event} ({asof_date}) — {team_short} is P3 with {constructors_points_asof} points.\"\n",
        "        ]\n",
        "    },\n",
        "    \"results_live_disclaimer\": {\n",
        "        \"questions\": [\n",
        "            \"ผลล่าสุดวันนี้\",\"ใครชนะวันนี้\",\"Red Bull ชนะไหมวันนี้\",\"คะแนนสด\",\"ผลการแข่งล่าสุด\",\"Latest results today?\",\"Who won today?\"\n",
        "        ],\n",
        "        \"responses\": [\n",
        "            \"ขออภัย ฉันไม่ให้ผลสด แนะนำเช็คที่เว็บไซต์ F1 (ข้อมูลของฉันอัปเดตถึง {asof_date}). / Sorry, I cannot provide live results. Please check the F1 website (my data is updated until {asof_date}).\"\n",
        "        ]\n",
        "    },\n",
        "    \"out_of_scope\": {\n",
        "        \"questions\": [\n",
        "            \"ใครชนะ MotoGP\",\"ข่าวหุ้นวันนี้\",\"ผลลิเวอร์พูล\",\"ผลบอลเมื่อคืน\",\"ราคาทองวันนี้\",\"ทีมอื่นบ้าง\",\"ขอข้อมูลทีมMercides\",\"Other sports\",\"Stock news\",\"Gold price today\"\n",
        "        ],\n",
        "        \"responses\": [\n",
        "            \"บอทนี้ตอบเฉพาะเรื่อง {team_short} ฤดูกาล {year} เท่านั้นค่ะ / This bot only answers questions about {team_short} {year} season.\"\n",
        "        ]\n",
        "    },\n",
        "    \"season_stats\": {\n",
        "        \"questions\": [\n",
        "            \"Max ชนะทั้งหมดกี่สนามใน F1\",\"Red Bull ชนะทั้งหมดกี่แชมป์\",\"สถิติ Max Verstappen ตลอดฤดูกาล\",\"สถิติ Red Bull ปีนี้\",\"รวมชัยชนะของทีมและนักขับ\"\n",
        "        ],\n",
        "        \"responses\": [\n",
        "            \"Max Verstappen ชนะรวม 3 สนามใน F1 และ Red Bull ชนะรวม 3 สนาม \",\n",
        "            \"สถิติฤดูกาล {year}: Max ชนะ 3 สนาม, Red Bull ได้ 239 คะแนนทีม \"\n",
        "        ]\n",
        "    },\n",
        "    \"season_stats_e\": {\n",
        "        \"questions\": [\n",
        "            \"Max wins this season?\",\"Red Bull wins this season?\" ,\"team victory\"\n",
        "        ],\n",
        "        \"responses\": [\n",
        "            \"Max Verstappen won 3 races in F1 and Red Bull won 3 races total\",\n",
        "            \"Season stats {year}: Max won 3 races, Red Bull has 239 constructor points\"\n",
        "        ]\n",
        "    },\n",
        "    \"race_calendar\": {\n",
        "        \"questions\": [\n",
        "            \"สนามต่อไป Red Bull แข่งที่ไหน\",\"ตารางแข่ง F1 ปี {year}\",\"Red Bull มีแข่งสนามไหนบ้าง\",\"วันแข่ง Italian GP ปีนี้\",\"ปฏิทินแข่งฤดูกาล {year}\",\"Next race of Red Bull?\",\"F1 calendar {year}\",\"Where does Red Bull race next?\"\n",
        "        ],\n",
        "        \"responses\": [\n",
        "            \"สนามต่อไปสำหรับ Red Bull คือ Azerbaijan Grand Prix วันที่ 19–21 กันยายน 2025 / Next race for Red Bull is Azerbaijan Grand Prix, 19–21 September 2025\",\n",
        "            \"ตารางแข่ง F1 ปี {year} / F1 Race Calendar {year}:\"\n",
        "            \"14-16 มี.ค.: Australian Grand Prix (เมลเบิร์น) / 14-16 Mar: Australian GP (Melbourne)\"\n",
        "            \"21-23 มี.ค.: Chinese Grand Prix (เซี่ยงไฮ้) / 21-23 Mar: Chinese GP (Shanghai)\"\n",
        "            \"4-6 เม.ย.: Japanese Grand Prix (ซูซูกะ) / 4-6 Apr: Japanese GP (Suzuka)\"\n",
        "            \"11-13 เม.ย.: Bahrain Grand Prix (ซาคีร์) / 11-13 Apr: Bahrain GP (Sakhir)\"\n",
        "            \"18-20 เม.ย.: Saudi Arabian Grand Prix (เจดดาห์) / 18-20 Apr: Saudi Arabian GP (Jeddah)\"\n",
        "            \"2-4 พ.ค.: Miami Grand Prix (ไมอามี) / 2-4 May: Miami GP (Miami)\"\n",
        "            \"16-18 พ.ค.: Emilia Romagna Grand Prix (อิโมลา) / 16-18 May: Emilia Romagna GP (Imola)\"\n",
        "            \"23-25 พ.ค.: Monaco Grand Prix (โมนาโก) / 23-25 May: Monaco GP (Monaco)\"\n",
        "            \"30 พ.ค. - 1 มิ.ย.: Spanish Grand Prix (บาร์เซโลนา) / 30 May-1 Jun: Spanish GP (Barcelona)\"\n",
        "            \"13-15 มิ.ย.: Canadian Grand Prix (มอนทรีออล) / 13-15 Jun: Canadian GP (Montreal)\"\n",
        "            \"27-29 มิ.ย.: Austrian Grand Prix (สปีลเบิร์ก) / 27-29 Jun: Austrian GP (Spielberg)\"\n",
        "            \"4-6 ก.ค.: British Grand Prix (ซิลเวอร์สโตน) / 4-6 Jul: British GP (Silverstone)\"\n",
        "            \"25-27 ก.ค.: Belgian Grand Prix (สปา-ฟรองโกชองส์) / 25-27 Jul: Belgian GP (Spa-Francorchamps)\"\n",
        "            \"1-3 ส.ค.: Hungarian Grand Prix (บูดาเปสต์) / 1-3 Aug: Hungarian GP (Budapest)\"\n",
        "            \"29-31 ส.ค.: Dutch Grand Prix (ซานด์ฟอร์ท) / 29-31 Aug: Dutch GP (Zandvoort)\"\n",
        "            \"5-7 ก.ย.: Italian Grand Prix (มอนซา) / 5-7 Sep: Italian GP (Monza)\"\n",
        "            \"19-21 ก.ย.: Azerbaijan Grand Prix (บากู) / 19-21 Sep: Azerbaijan GP (Baku)\"\n",
        "            \"3-5 ต.ค.: Singapore Grand Prix (สิงคโปร์) / 3-5 Oct: Singapore GP (Singapore)\"\n",
        "            \"17-19 ต.ค.: United States Grand Prix (ออสติน) / 17-19 Oct: United States GP (Austin)\"\n",
        "            \"24-26 ต.ค.: Mexico Grand Prix (เม็กซิโก ซิตี้) / 24-26 Oct: Mexico GP (Mexico City)\"\n",
        "            \"7-9 พ.ย.: Brazilian Grand Prix (เซาเปาโล) / 7-9 Nov: Brazilian GP (Sao Paulo)\"\n",
        "            \"20-22 พ.ย.: Las Vegas Grand Prix (ลาสเวกัส) / 20-22 Nov: Las Vegas GP (Las Vegas)\"\n",
        "            \"28-30 พ.ย.: Qatar Grand Prix (ลูเซล) / 28-30 Nov: Qatar GP (Lusail)\"\n",
        "            \"5-7 ธ.ค.: Abu Dhabi Grand Prix (ยาส มารีนา) / 5-7 Dec: Abu Dhabi GP (Yas Marina)\"\n",
        "        ]\n",
        "    },\n",
        "    \"car_stats_2025\": {\n",
        "        \"questions\": [\n",
        "            \"RB21 top speed เท่าไหร่\",\"RB21 aerodynamics มีอะไรใหม่\",\"สเปครถ Red Bull ปี 2025\",\"รถทีม Red Bull ปีนี้แรงม้าเท่าไหร่\",\"RB21 specs\",\"RB21 top speed\"\n",
        "        ],\n",
        "        \"responses\": [\n",
        "            \"{car_name} ปี {year} มี top speed {top_speed} กม./ชม., น้ำหนัก {weight} กก., และเน้น {car_focus} / {car_name} {year} has top speed {top_speed} km/h, weight {weight} kg, focusing on {car_focus}.\"\n",
        "        ]\n",
        "    },\n",
        "    \"team_comparison\": {\n",
        "        \"questions\": [\n",
        "            \"คะแนน Red Bull vs Mercedes ปีนี้\",\"Max vs Lewis อันดับคะแนนเท่าไหร่\",\"เปรียบเทียบ Red Bull กับทีมอื่นปี {year}\",\"ทีมใดมีคะแนนนำตอนนี้\",\"Red Bull vs Mercedes points\",\"Driver comparison Max vs Lewis\"\n",
        "        ],\n",
        "        \"responses\": [\n",
        "            \"คะแนนเปรียบเทียบทีมปี {year}: Red Bull 239 คะแนน, Mercedes 180 คะแนน / Team points comparison {year}: Red Bull 239 point, Mercedes 180 point\",\n",
        "            \"อันดับนักขับ Max Verstappen อยู่อันดับ 3 ด้วยคะแนน 230 แต้ม ขณะที่ Lewis Hamilton อยู่อันดับ 5 มีคะแนน 180 แต้ม\"\n",
        "        ]\n",
        "    }\n",
        "}\n"
      ]
    },
    {
      "cell_type": "code",
      "execution_count": 130,
      "metadata": {
        "id": "6q399mEX3_QU"
      },
      "outputs": [],
      "source": [
        "# ---------- augmentation + dataset builder ----------\n",
        "EMOJIS = [\"🏎️\",\"✨\",\"🔥\",\"💬\",\"✅\",\"❓\",\"📊\",\"🏁\",\"🏎️💨\",\"𓄀\"]\n",
        "PUNCTS = [\"\",\"!\",\"!!\",\"!!!\",\"?\",\"??\",\"...\"]\n",
        "TEAM_SYNS = [\n",
        "    \"Oracle Red Bull Racing\",\"Red Bull Racing\",\"Red Bull\",\"RBR\",\n",
        "    \"ทีมเรดบูล\",\"กระทิงแดง\"\n",
        "]\n",
        "YEAR_SYNS = [FACTS[\"year\"], f\"ฤดูกาล {FACTS['year']}\", f\"season {FACTS['year']}\", f\"{FACTS['year']} season\"]\n",
        "\n",
        "def augment(text: str) -> str:\n",
        "    t = text.strip()\n",
        "    r = random.random()\n",
        "    if r < 0.1: t = t.upper()\n",
        "    elif r < 0.2: t = t.capitalize()\n",
        "    if random.random() < 0.35: t += \" \" + random.choice(EMOJIS)\n",
        "    if random.random() < 0.35: t += random.choice(PUNCTS)\n",
        "    if random.random() < 0.1 and len(t.split())==1 and len(t)>3:\n",
        "        t = t[:-1] + t[-1]*random.randint(2,4)\n",
        "    return t\n",
        "\n",
        "def expand_question(q):\n",
        "    return q.replace(\"{team_short}\", random.choice(TEAM_SYNS)).replace(\"{year}\", random.choice(YEAR_SYNS))\n",
        "\n",
        "def build_dataset(target_rows=9000, seed=42):\n",
        "    random.seed(seed)\n",
        "    rows = []\n",
        "    intents = list(INTENT_TEMPLATES.keys())\n",
        "    per_intent = max(200, target_rows // len(intents))\n",
        "    for intent, pack in INTENT_TEMPLATES.items():\n",
        "        qs = pack[\"questions\"]\n",
        "        rs = [fill_response(r) for r in pack[\"responses\"]]\n",
        "        for _ in range(per_intent):\n",
        "            q = augment(expand_question(random.choice(qs)))\n",
        "            r = augment(random.choice(rs))\n",
        "            rows.append((q, intent, r))\n",
        "    random.shuffle(rows)\n",
        "    return pd.DataFrame(rows, columns=[\"question\",\"intent\",\"response\"])"
      ]
    },
    {
      "cell_type": "code",
      "execution_count": null,
      "metadata": {
        "colab": {
          "base_uri": "https://localhost:8080/"
        },
        "id": "24bG4CHai8jM",
        "outputId": "3870aba2-6b4a-4584-d3ba-0173f13be889"
      },
      "outputs": [
        {
          "name": "stdout",
          "output_type": "stream",
          "text": [
            "Mounted at /content/drive\n"
          ]
        }
      ],
      "source": [
        "from google.colab import drive\n",
        "drive.mount('/content/drive')"
      ]
    },
    {
      "cell_type": "code",
      "execution_count": 142,
      "metadata": {
        "colab": {
          "base_uri": "https://localhost:8080/"
        },
        "id": "FSybHeW58-qE",
        "outputId": "ff3348e0-2852-4971-85b2-78604fa9faa5"
      },
      "outputs": [
        {
          "name": "stdout",
          "output_type": "stream",
          "text": [
            "สร้าง q_a_dataset.xlsx จำนวนแถว: 8995\n"
          ]
        }
      ],
      "source": [
        "# --- สร้างและบันทึก dataset ---\n",
        "df = build_dataset(target_rows=9000)\n",
        "df.to_excel(\"q_a_dataset.xlsx\", index=False)\n",
        "print(\"สร้าง q_a_dataset.xlsx จำนวนแถว:\", len(df))"
      ]
    },
    {
      "cell_type": "code",
      "execution_count": 143,
      "metadata": {
        "colab": {
          "base_uri": "https://localhost:8080/"
        },
        "id": "vZFqxqhN4kjs",
        "outputId": "b52793ce-f4ec-4550-be87-bd082dce0185"
      },
      "outputs": [
        {
          "name": "stdout",
          "output_type": "stream",
          "text": [
            "Accuracy: 0.9533\n",
            "                             precision    recall  f1-score   support\n",
            "\n",
            "                      bases       0.96      1.00      0.98        51\n",
            "                    bases_e       1.00      1.00      1.00        51\n",
            "               capabilities       1.00      1.00      1.00        51\n",
            "             capabilities_e       1.00      1.00      1.00        52\n",
            "             car_focus_2025       1.00      1.00      1.00        51\n",
            "                   car_name       1.00      0.80      0.89        51\n",
            "                 car_name_e       0.85      1.00      0.92        52\n",
            "             car_stats_2025       1.00      1.00      1.00        52\n",
            "constructors_standings_asof       1.00      0.96      0.98        51\n",
            "               drivers_2025       1.00      0.94      0.97        51\n",
            "             drivers_2025_e       0.91      1.00      0.95        52\n",
            "     drivers_standings_2025       1.00      1.00      1.00        51\n",
            "   drivers_standings_2025_e       1.00      1.00      1.00        51\n",
            "                    goodbye       1.00      0.71      0.83        51\n",
            "                  goodbye_e       0.78      1.00      0.87        52\n",
            "                   greeting       1.00      0.41      0.58        51\n",
            "                 greeting_e       0.64      1.00      0.78        51\n",
            "                        max       1.00      0.82      0.90        51\n",
            "                      max_e       1.00      1.00      1.00        52\n",
            "               out_of_scope       1.00      1.00      1.00        51\n",
            "              race_calendar       1.00      1.00      1.00        52\n",
            "    results_live_disclaimer       1.00      1.00      1.00        51\n",
            "               season_stats       1.00      1.00      1.00        52\n",
            "             season_stats_e       1.00      1.00      1.00        52\n",
            "            team_comparison       1.00      1.00      1.00        51\n",
            "              team_overview       1.00      1.00      1.00        52\n",
            "            team_overview_e       1.00      1.00      1.00        51\n",
            "             team_principal       1.00      0.71      0.83        51\n",
            "           team_principal_e       0.78      1.00      0.87        52\n",
            "         technical_director       1.00      1.00      1.00        51\n",
            "       technical_director_e       1.00      1.00      1.00        52\n",
            "                    who_win       1.00      1.00      1.00        52\n",
            "                  who_win_e       1.00      1.00      1.00        51\n",
            "                  win_score       1.00      1.00      1.00        51\n",
            "                win_score_e       0.85      1.00      0.92        52\n",
            "\n",
            "                   accuracy                           0.95      1799\n",
            "                  macro avg       0.96      0.95      0.95      1799\n",
            "               weighted avg       0.96      0.95      0.95      1799\n",
            "\n"
          ]
        }
      ],
      "source": [
        "# =========================================================\n",
        "# 2. Train, Evaluate, Save Model\n",
        "# =========================================================\n",
        "\n",
        "# Load (จากไฟล์ที่เพิ่งสร้าง)\n",
        "df = pd.read_excel(\"q_a_dataset.xlsx\")\n",
        "\n",
        "X, y = df[\"question\"], df[\"intent\"]\n",
        "X_train, X_test, y_train, y_test = train_test_split(\n",
        "    X, y, test_size=0.2, random_state=42, stratify=y\n",
        ")\n",
        "\n",
        "model = make_pipeline(TfidfVectorizer(), MultinomialNB())\n",
        "model.fit(X_train, y_train)\n",
        "\n",
        "responses_dict = df.groupby(\"intent\")[\"response\"].apply(list).to_dict()\n",
        "\n",
        "from sklearn.metrics import accuracy_score, classification_report, confusion_matrix\n",
        "y_pred = model.predict(X_test)\n",
        "print(f\"Accuracy: {accuracy_score(y_test, y_pred):.4f}\")\n",
        "print(classification_report(y_test, y_pred))"
      ]
    },
    {
      "cell_type": "code",
      "execution_count": 133,
      "metadata": {
        "colab": {
          "base_uri": "https://localhost:8080/"
        },
        "id": "ggGXuGjnsj7z",
        "outputId": "38b35103-048a-45c0-a70b-6675bb1feda6"
      },
      "outputs": [
        {
          "name": "stdout",
          "output_type": "stream",
          "text": [
            "✅ เพิ่ม intent 'max' พร้อม response YouTube แล้ว บันทึกเรียบร้อย\n"
          ]
        }
      ],
      "source": [
        "import pandas as pd\n",
        "\n",
        "# โหลด dataset เดิม\n",
        "df = pd.read_excel(\"q_a_dataset.xlsx\")\n",
        "\n",
        "# ตัวอย่างคำถามใหม่ + intent + response (ลิงก์เพลง Super Max)\n",
        "new_rows = [\n",
        "    {\"question\": \"max max max\", \"intent\": \"max\",\n",
        "     \"response\": \"<VIDEO:https://youtu.be/mS41bHNw1WI?si=idnXKPox1kYTav-e>\"},\n",
        "    {\"question\": \"supermax song\", \"intent\": \"max\",\n",
        "     \"response\": \"<VIDEO:https://youtu.be/mS41bHNw1WI?si=idnXKPox1kYTav-e>\"},\n",
        "    {\"question\": \"เพลง max\", \"intent\": \"max\",\n",
        "     \"response\": \"<VIDEO:https://youtu.be/mS41bHNw1WI?si=idnXKPox1kYTav-e>\"}\n",
        "]\n",
        "\n",
        "# แปลงเป็น DataFrame แล้วต่อกับของเดิม\n",
        "df_new = pd.concat([df, pd.DataFrame(new_rows)], ignore_index=True)\n",
        "\n",
        "# เซฟทับไฟล์\n",
        "df_new.to_excel(\"q_a_dataset.xlsx\", index=False)\n",
        "\n",
        "print(\"✅ เพิ่ม intent 'max' พร้อม response YouTube แล้ว บันทึกเรียบร้อย\")\n"
      ]
    },
    {
      "cell_type": "code",
      "execution_count": 117,
      "metadata": {
        "colab": {
          "base_uri": "https://localhost:8080/"
        },
        "id": "zGDpJVQius9G",
        "outputId": "085f5b0d-0dd2-4036-958c-5b767eaf1b6e"
      },
      "outputs": [
        {
          "name": "stdout",
          "output_type": "stream",
          "text": [
            "Columns: Index(['question', 'intent', 'response'], dtype='object')\n",
            "                                question                intent  \\\n",
            "0                 บอทนี้ทำอะไรได้บ้าง!!!          capabilities   \n",
            "1             TEAM PRINCIPAL ทีมเรดบูล 𓄀        team_principal   \n",
            "2    Max vs Lewis อันดับคะแนนเท่าไหร่!!!       team_comparison   \n",
            "3             ฐานทีม Red Bull อยู่ที่ไหน                 bases   \n",
            "4  Who is the Technical Director of RBR?  technical_director_e   \n",
            "\n",
            "                                            response  \n",
            "0  ฉันตอบคำถามเกี่ยวกับ F1 Team Red Bull 2025: นั...  \n",
            "1  หัวหน้าทีม (Team Principal/CEO) คือ Laurent Me...  \n",
            "2  อันดับนักขับ Max Verstappen อยู่อันดับ 3 ด้วยค...  \n",
            "3  แชสซีส์อยู่ Milton Keynes, UK; เครื่องยนต์อยู่...  \n",
            "4       The Technical Director is Pierre Waché. 🏁!!!  \n"
          ]
        }
      ],
      "source": [
        "import pandas as pd\n",
        "\n",
        "df = pd.read_excel(\"q_a_dataset.xlsx\")\n",
        "print(\"Columns:\", df.columns)\n",
        "print(df.head())\n",
        "\n"
      ]
    },
    {
      "cell_type": "code",
      "execution_count": 134,
      "metadata": {
        "colab": {
          "base_uri": "https://localhost:8080/"
        },
        "id": "tjQIxH7X1Xkc",
        "outputId": "c3fbc6df-86c9-4f5b-bda2-6301140acb84"
      },
      "outputs": [
        {
          "name": "stdout",
          "output_type": "stream",
          "text": [
            "Model saved as chatbot_model.pkl\n"
          ]
        }
      ],
      "source": [
        "# Save model\n",
        "joblib.dump(model, \"chatbot_model.pkl\")\n",
        "print(\"Model saved as chatbot_model.pkl\")"
      ]
    },
    {
      "cell_type": "code",
      "execution_count": 135,
      "metadata": {
        "colab": {
          "base_uri": "https://localhost:8080/"
        },
        "id": "aS9808Ek5BU0",
        "outputId": "d9a79cce-1139-4697-c3d6-8cf57a54c7c4"
      },
      "outputs": [
        {
          "name": "stdout",
          "output_type": "stream",
          "text": [
            "อัปเดตถึง ITALIAN GRAND PRIX (2025-09-10) — MAX VERSTAPPEN อันดับ P3 มี 230 คะแนน; LIAM LAWSON อันดับ P15 มี 20 คะแนน. 🔥??\n"
          ]
        }
      ],
      "source": [
        "import random\n",
        "def chatbot_response(user_input: str):\n",
        "    intent = model.predict([user_input])[0]\n",
        "    fallback = f\"ขอโทษค่ะ บอทนี้ตอบเฉพาะ {FACTS['team_short']} ฤดูกาล {FACTS['year']} เท่านั้น\"\n",
        "    return random.choice(responses_dict.get(intent, [fallback]))\n",
        "\n",
        "print(chatbot_response(\"คะแนนของ Max Verstappen ปี 2025 เท่าไหร่\"))"
      ]
    },
    {
      "cell_type": "code",
      "execution_count": 136,
      "metadata": {
        "colab": {
          "base_uri": "https://localhost:8080/"
        },
        "id": "v6POgO2E101M",
        "outputId": "b2955cdc-dff9-4627-8503-4c1eef1c88f7"
      },
      "outputs": [
        {
          "name": "stdout",
          "output_type": "stream",
          "text": [
            "Writing app.py\n"
          ]
        }
      ],
      "source": [
        "%%writefile app.py\n",
        "import os\n",
        "import streamlit as st\n",
        "import pandas as pd\n",
        "import random\n",
        "import joblib\n",
        "\n",
        "# ปิด usage stats\n",
        "os.environ[\"STREAMLIT_BROWSER_GATHERUSAGESTATS\"] = \"false\"\n",
        "\n",
        "MODEL_PATH = \"/content/chatbot_model.pkl\"\n",
        "DATASET_PATH = \"/content/q_a_dataset.xlsx\" # แก้ไขชื่อไฟล์ให้ถูกต้อง\n",
        "\n",
        "# โหลดโมเดล/ชุดคำตอบ\n",
        "model = joblib.load(MODEL_PATH)\n",
        "df = pd.read_excel(DATASET_PATH)\n",
        "intent_to_response = df.groupby(\"intent\")[\"response\"].apply(list).to_dict()\n",
        "\n",
        "# ข้อมูลสำหรับ Red Bull Racing ปี 2025\n",
        "FACTS = {\n",
        "    \"year\": \"2025\",\n",
        "    \"team_short\": \"F1 Team Red Bull\",\n",
        "    \"team_full\": \"Oracle Red Bull Racing\",\n",
        "}\n",
        "\n",
        "st.set_page_config(page_title=\"F1 Team Red Bull 2025 Chatbot\", page_icon=\"🏎️\")\n",
        "st.title(\"F1 Team Red Bull 2025 Chatbot\")\n",
        "st.caption(\"Ask anything about the Oracle Red Bull Racing 2025 season (TH).\")\n",
        "\n",
        "# session state\n",
        "if \"history\" not in st.session_state:\n",
        "    st.session_state.history = []\n",
        "\n",
        "# input\n",
        "user_input = st.text_input(\"You: \", \"\", placeholder=\"Ask about F1 Team Red Bull 2025...\")\n",
        "\n",
        "col1, col2 = st.columns([1,1])\n",
        "with col1:\n",
        "    send = st.button(\"Send\", type=\"primary\")\n",
        "with col2:\n",
        "    clear = st.button(\"Clear history\")\n",
        "\n",
        "if clear:\n",
        "    st.session_state.history = []\n",
        "\n",
        "if send and user_input.strip():\n",
        "    predicted_intent = model.predict([user_input])[0]\n",
        "\n",
        "    fallback_message = f\"ขอโทษครับ/ค่ะ บอทนี้ตอบเฉพาะ {FACTS['team_full']} ฤดูกาล {FACTS['year']} เท่านั้น\"\n",
        "    bot_reply = random.choice(\n",
        "        intent_to_response.get(predicted_intent, [fallback_message])\n",
        "    )\n",
        "    st.session_state.history.append({\"user\": user_input, \"bot\": bot_reply})\n",
        "\n",
        "# history\n",
        "for chat in st.session_state.history:\n",
        "    st.markdown(f\"**You:** {chat['user']}\")\n",
        "    # ถ้าเป็น response แบบ VIDEO\n",
        "    if str(chat['bot']).startswith(\"<VIDEO:\"):\n",
        "        url = chat['bot'].replace(\"<VIDEO:\", \"\").replace(\">\", \"\").strip()\n",
        "        st.video(url)\n",
        "    else:\n",
        "        st.markdown(f\"**🤖 Bot:** {chat['bot']}\")\n"
      ]
    },
    {
      "cell_type": "code",
      "execution_count": 144,
      "metadata": {
        "colab": {
          "base_uri": "https://localhost:8080/"
        },
        "id": "YJjeYBit01bD",
        "outputId": "dd878f06-08e1-4f8c-8cbf-83cc95c7bbfa"
      },
      "outputs": [
        {
          "name": "stdout",
          "output_type": "stream",
          "text": [
            "Authtoken saved to configuration file: /root/.config/ngrok/ngrok.yml\n"
          ]
        }
      ],
      "source": [
        "!ngrok authtoken 2spnOtxlmFEEvSysAUJbemAPDKR_5K4qumN3T2WDnTap3K42E"
      ]
    },
    {
      "cell_type": "code",
      "execution_count": 146,
      "metadata": {
        "colab": {
          "base_uri": "https://localhost:8080/"
        },
        "id": "0DUhMKVt18Y0",
        "outputId": "04204e4d-1426-46f3-8da9-c3f0a6f01d62"
      },
      "outputs": [
        {
          "name": "stdout",
          "output_type": "stream",
          "text": [
            "\n",
            "Collecting usage statistics. To deactivate, set browser.gatherUsageStats to false.\n",
            "\u001b[0m\n",
            "\u001b[0m\n",
            "\u001b[34m\u001b[1m  You can now view your Streamlit app in your browser.\u001b[0m\n",
            "\u001b[0m\n",
            "\u001b[34m  Local URL: \u001b[0m\u001b[1mhttp://localhost:8501\u001b[0m\n",
            "\u001b[34m  Network URL: \u001b[0m\u001b[1mhttp://172.28.0.12:8501\u001b[0m\n",
            "\u001b[34m  External URL: \u001b[0m\u001b[1mhttp://34.48.67.190:8501\u001b[0m\n",
            "\u001b[0m\n",
            "\u001b[34m  Stopping...\u001b[0m\n"
          ]
        }
      ],
      "source": [
        "!streamlit run app.py --server.port 8501 &"
      ]
    },
    {
      "cell_type": "code",
      "execution_count": 145,
      "metadata": {
        "colab": {
          "base_uri": "https://localhost:8080/"
        },
        "id": "yXeyszkD2DR2",
        "outputId": "6fe674ee-5c11-4004-f895-09ed44a1239c"
      },
      "outputs": [
        {
          "name": "stdout",
          "output_type": "stream",
          "text": [
            "🌍 Open your app here: NgrokTunnel: \"https://6f06d8563c57.ngrok-free.app\" -> \"http://localhost:8501\"\n"
          ]
        }
      ],
      "source": [
        "# เปิดทางเข้า ngrok\n",
        "from pyngrok import ngrok\n",
        "ngrok.kill()\n",
        "public_url = ngrok.connect(8501)\n",
        "print(\"🌍 Open your app here:\", public_url)"
      ]
    },
    {
      "cell_type": "code",
      "execution_count": null,
      "metadata": {
        "id": "aydAY05oDzbN"
      },
      "outputs": [],
      "source": []
    }
  ],
  "metadata": {
    "colab": {
      "provenance": []
    },
    "kernelspec": {
      "display_name": "Python 3",
      "name": "python3"
    },
    "language_info": {
      "name": "python"
    }
  },
  "nbformat": 4,
  "nbformat_minor": 0
}
