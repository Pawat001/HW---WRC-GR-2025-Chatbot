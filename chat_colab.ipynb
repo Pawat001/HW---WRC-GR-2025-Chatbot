{
  "cells": [
    {
      "cell_type": "markdown",
      "metadata": {
        "id": "iLKBE3sX9tpj"
      },
      "source": [
        "https://docs.google.com/spreadsheets/d/1o-VlCT54XhIVfyyVX0jscXtR28pbT6bBP3DzPrnVZ4A/edit?usp=sharing\n",
        "\n",
        "Google sheet กลาง ไม่ต้องทำไรทั้งนั้นทิ้งไว้ให้ดูเฉยๆ คนที่ owuay\n",
        "ให้สิทธิ์เท่านั้นถึงจะใช้ร่วมได้"
      ]
    },
    {
      "cell_type": "code",
      "execution_count": null,
      "metadata": {
        "id": "ZPS9ooq_49Gx"
      },
      "outputs": [],
      "source": [
        "#ตอนสอบจริงโค้ด final exam ทำตรงนี้ หรือจะแยกคนละ tab ก้ได้แล้วแต่สถานการณ์และความชอบ\n",
        "#ถ้าทำ final ตรงนี้ข้างล่างสุดแนะนำเป็น chat คุย เพราะมันจะยาวเหยียดเพราะมันเอาทุกค่าใน history"
      ]
    },
    {
      "cell_type": "code",
      "execution_count": null,
      "metadata": {
        "colab": {
          "base_uri": "https://localhost:8080/"
        },
        "id": "dJ1HwIdH7DUL",
        "outputId": "b0ff74f2-77d5-4bff-b442-62c37f420c39"
      },
      "outputs": [
        {
          "output_type": "stream",
          "name": "stdout",
          "text": [
            "Requirement already satisfied: gspread in /usr/local/lib/python3.12/dist-packages (6.2.1)\n",
            "Requirement already satisfied: google-auth>=1.12.0 in /usr/local/lib/python3.12/dist-packages (from gspread) (2.38.0)\n",
            "Requirement already satisfied: google-auth-oauthlib>=0.4.1 in /usr/local/lib/python3.12/dist-packages (from gspread) (1.2.2)\n",
            "Requirement already satisfied: cachetools<6.0,>=2.0.0 in /usr/local/lib/python3.12/dist-packages (from google-auth>=1.12.0->gspread) (5.5.2)\n",
            "Requirement already satisfied: pyasn1-modules>=0.2.1 in /usr/local/lib/python3.12/dist-packages (from google-auth>=1.12.0->gspread) (0.4.2)\n",
            "Requirement already satisfied: rsa<5,>=3.1.4 in /usr/local/lib/python3.12/dist-packages (from google-auth>=1.12.0->gspread) (4.9.1)\n",
            "Requirement already satisfied: requests-oauthlib>=0.7.0 in /usr/local/lib/python3.12/dist-packages (from google-auth-oauthlib>=0.4.1->gspread) (2.0.0)\n",
            "Requirement already satisfied: pyasn1<0.7.0,>=0.6.1 in /usr/local/lib/python3.12/dist-packages (from pyasn1-modules>=0.2.1->google-auth>=1.12.0->gspread) (0.6.1)\n",
            "Requirement already satisfied: oauthlib>=3.0.0 in /usr/local/lib/python3.12/dist-packages (from requests-oauthlib>=0.7.0->google-auth-oauthlib>=0.4.1->gspread) (3.3.1)\n",
            "Requirement already satisfied: requests>=2.0.0 in /usr/local/lib/python3.12/dist-packages (from requests-oauthlib>=0.7.0->google-auth-oauthlib>=0.4.1->gspread) (2.32.4)\n",
            "Requirement already satisfied: charset_normalizer<4,>=2 in /usr/local/lib/python3.12/dist-packages (from requests>=2.0.0->requests-oauthlib>=0.7.0->google-auth-oauthlib>=0.4.1->gspread) (3.4.4)\n",
            "Requirement already satisfied: idna<4,>=2.5 in /usr/local/lib/python3.12/dist-packages (from requests>=2.0.0->requests-oauthlib>=0.7.0->google-auth-oauthlib>=0.4.1->gspread) (3.11)\n",
            "Requirement already satisfied: urllib3<3,>=1.21.1 in /usr/local/lib/python3.12/dist-packages (from requests>=2.0.0->requests-oauthlib>=0.7.0->google-auth-oauthlib>=0.4.1->gspread) (2.5.0)\n",
            "Requirement already satisfied: certifi>=2017.4.17 in /usr/local/lib/python3.12/dist-packages (from requests>=2.0.0->requests-oauthlib>=0.7.0->google-auth-oauthlib>=0.4.1->gspread) (2025.10.5)\n",
            "[08:32:38] owuay:\n",
            "นี่คือห้อง chat โค้ด\n",
            "\n"
          ]
        }
      ],
      "source": [
        "!pip install gspread\n",
        "\n",
        "import gspread\n",
        "from google.colab import auth\n",
        "import google.auth\n",
        "from datetime import datetime\n",
        "\n",
        "auth.authenticate_user()\n",
        "creds, _ = google.auth.default()\n",
        "gc = gspread.authorize(creds)\n",
        "# แก้ห้อง chat (0,1,2)\n",
        "sheet = gc.open(\"test_chat1\").get_worksheet(2)\n",
        "# แก้ชื่อผู้ใช้ตรงนี้\n",
        "username = \"owuay\"\n",
        "# แก้ข้อความที่จะส่งตรงนี้ #ถ้าแค่อยากดูแชทก็ \"\"\"\" \"\"\"\" ลบข้อความในนี้ให้หมดเหลือแค่อากาศ\n",
        "msg = \"\"\"นี่คือห้อง chat โค้ด\n",
        "\"\"\"\n",
        "if msg.strip() == \"\":\n",
        "  pass\n",
        "else:\n",
        "  timestamp = datetime.now().strftime(\"%H:%M:%S\")\n",
        "  sheet.append_row([timestamp, username, msg])\n",
        "all_msgs = sheet.get_all_values()\n",
        "all_msgs.reverse()\n",
        "for m in all_msgs:\n",
        "  print(f\"[{m[0]}] {m[1]}:\")\n",
        "  print(m[2])\n",
        "\n"
      ]
    }
  ],
  "metadata": {
    "colab": {
      "provenance": [],
      "gpuType": "V5E1"
    },
    "kernelspec": {
      "display_name": "Python 3",
      "name": "python3"
    },
    "language_info": {
      "name": "python"
    },
    "accelerator": "TPU"
  },
  "nbformat": 4,
  "nbformat_minor": 0
}